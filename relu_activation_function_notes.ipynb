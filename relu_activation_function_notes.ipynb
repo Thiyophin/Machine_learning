{
  "nbformat": 4,
  "nbformat_minor": 0,
  "metadata": {
    "colab": {
      "provenance": [],
      "gpuType": "T4",
      "authorship_tag": "ABX9TyOqr5RoeDgDHj6CbPECIljE",
      "include_colab_link": true
    },
    "kernelspec": {
      "name": "python3",
      "display_name": "Python 3"
    },
    "language_info": {
      "name": "python"
    },
    "accelerator": "GPU"
  },
  "cells": [
    {
      "cell_type": "markdown",
      "metadata": {
        "id": "view-in-github",
        "colab_type": "text"
      },
      "source": [
        "<a href=\"https://colab.research.google.com/github/Thiyophin/Machine_learning/blob/master/relu_activation_function_notes.ipynb\" target=\"_parent\"><img src=\"https://colab.research.google.com/assets/colab-badge.svg\" alt=\"Open In Colab\"/></a>"
      ]
    },
    {
      "cell_type": "code",
      "execution_count": 8,
      "metadata": {
        "id": "kFff0MKYl4pf"
      },
      "outputs": [],
      "source": [
        "import numpy as np\n",
        "import matplotlib.pyplot as plt\n",
        "from matplotlib.gridspec import GridSpec\n",
        "import tensorflow as tf\n",
        "from tensorflow.keras.models import Sequential\n",
        "from tensorflow.keras.layers import Dense, LeakyReLU\n",
        "from tensorflow.keras.activations import linear, relu, sigmoid\n",
        "from matplotlib.widgets import Slider\n",
        "import warnings\n"
      ]
    },
    {
      "cell_type": "markdown",
      "source": [
        "<a name=\"2\"></a>\n",
        "## 2 - ReLU Activation\n",
        "This week, a new activation was introduced, the Rectified Linear Unit (ReLU).\n",
        "$$ a = max(0,z) \\quad\\quad\\text {# ReLU function} $$"
      ],
      "metadata": {
        "id": "A59zitQ7oiQB"
      }
    },
    {
      "cell_type": "markdown",
      "source": [
        "<img align=\"right\" src=\"https://drive.google.com/uc?export=view&id=1CJ0dnIAaUXZis5pT_Rwbe9fRegkfRAP7\"     style=\" width:380px; padding: 30px 30px;\" >\n",
        "The example from the lecture on the right shows an application of the ReLU. In this example, the derived \"awareness\" feature is not binary but has a continuous range of values. The sigmoid is best for on/off or binary situations. The ReLU provides a continuous linear relationship. Additionally it has an 'off' range where the output is zero.     \n",
        "The \"off\" feature makes the ReLU a Non-Linear activation. Why is this needed? Let's examine this below."
      ],
      "metadata": {
        "id": "lg3dWjwjohZK"
      }
    },
    {
      "cell_type": "markdown",
      "source": [
        "### Why Non-Linear Activations?  \n",
        "<img align=\"left\" src=\"https://drive.google.com/uc?export=view&id=1dSbtFuGasmL0Avv9StCz4tsZMWD4Vmb4\"     style=\" width:250px; padding: 10px 20px; \" > The function shown is composed of linear pieces (piecewise linear). The slope is consistent during the linear portion and then changes abruptly at transition points. At transition points, a new linear function is added which, when added to the existing function, will produce the new slope. The new function is added at transition point but does not contribute to the output prior to that point. The non-linear activation function is responsible for disabling the input prior to and sometimes after the transition points. The following exercise provides a more tangible example."
      ],
      "metadata": {
        "id": "QFRZpviqp1Ku"
      }
    },
    {
      "cell_type": "markdown",
      "source": [
        "The exercise will use the network below in a regression problem where you must model a piecewise linear target :\n",
        "<img align=\"center\" src=\"https://drive.google.com/uc?export=view&id=1Hkuytei0vtZksT4zuWqzQrSja7lz5AHF\"     style=\" width:650px; padding: 10px 20px; \">  \n",
        "The network has 3 units in the first layer. Each is required to form the target. Unit 0 is pre-programmed and fixed to map the first segment. You will modify weights and biases in unit 1 and 2 to model the 2nd and 3rd segment. The output unit is also fixed and simply sums the outputs of the first layer.  \n",
        "\n",
        "Using the sliders below, modify weights and bias to match the target.\n",
        "Hints: Start with `w1` and `b1` and leave `w2` and `b2` zero until you match the 2nd segment. Clicking rather than sliding is quicker.  If you have trouble, don't worry, the text below will describe this in more detail."
      ],
      "metadata": {
        "id": "kOnLKaujqX0L"
      }
    },
    {
      "cell_type": "markdown",
      "source": [
        "The goal of this exercise is to appreciate how the ReLU's non-linear behavior provides the needed ability to turn functions off until they are needed. Let's see how this worked in this example.\n",
        "<img align=\"right\" src=\"https://drive.google.com/uc?export=view&id=1mD2z6U00mJ0cu_cH785J2mdZr8SqMqLN\"     style=\" width:600px; padding: 10px 20px; \">\n",
        "The plots on the right contain the output of the units in the first layer.   \n",
        "Starting at the top, unit 0 is responsible for the first segment marked with a 1. Both the linear function $z$ and the function following the ReLU $a$ are shown. You can see that the ReLU cuts off the function after the interval [0,1]. This is important as it prevents Unit 0 from interfering with the following segment.\n",
        "\n",
        "Unit 1 is responsible for the 2nd segment. Here the ReLU kept this unit quiet until after x is 1. Since the first unit is not contributing, the slope for unit 1, $w^{[1]}_1$, is just the slope of the target line. The bias must be adjusted to keep the output negative until x has reached 1. Note how the contribution of Unit 1 extends to the 3rd segment as well.\n",
        "\n",
        "Unit 2 is responsible for the 3rd segment. The ReLU again zeros the output until x reaches the right value.The slope of the unit, $w^{[1]}_2$, must be set so that the sum of unit 1 and 2 have the desired slope. The bias is again adjusted to keep the output negative until x has reached 2.\n",
        "\n",
        "The \"off\" or disable feature  of the ReLU activation enables models to stitch together linear segments to model complex non-linear functions.\n"
      ],
      "metadata": {
        "id": "V-quRgtMq-Xg"
      }
    },
    {
      "cell_type": "code",
      "source": [],
      "metadata": {
        "id": "PVypDrUfpa3Y"
      },
      "execution_count": null,
      "outputs": []
    }
  ]
}