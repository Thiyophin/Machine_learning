{
  "nbformat": 4,
  "nbformat_minor": 0,
  "metadata": {
    "colab": {
      "provenance": [],
      "gpuType": "T4",
      "authorship_tag": "ABX9TyMVEuk+Y8UhRBf9XY4qt3H4",
      "include_colab_link": true
    },
    "kernelspec": {
      "name": "python3",
      "display_name": "Python 3"
    },
    "language_info": {
      "name": "python"
    },
    "accelerator": "GPU"
  },
  "cells": [
    {
      "cell_type": "markdown",
      "metadata": {
        "id": "view-in-github",
        "colab_type": "text"
      },
      "source": [
        "<a href=\"https://colab.research.google.com/github/Thiyophin/Machine_learning/blob/master/coffee_roasting_tensorflow_implementation.ipynb\" target=\"_parent\"><img src=\"https://colab.research.google.com/assets/colab-badge.svg\" alt=\"Open In Colab\"/></a>"
      ]
    },
    {
      "cell_type": "markdown",
      "source": [
        "# Simple Neural Network\n",
        "In this lab we will build a small neural network using Tensorflow.\n",
        "   <center> <img  src=\"https://drive.google.com/uc?export=view&id=1R0txYPwVR8-TVDhQtOfg2uQm8ZC0hFjX\" width=\"400\" />   <center/>\n"
      ],
      "metadata": {
        "id": "Cm47C8m5rm_R"
      }
    },
    {
      "cell_type": "markdown",
      "source": [],
      "metadata": {
        "id": "JsKnHv9Yropw"
      }
    },
    {
      "cell_type": "code",
      "source": [
        "import numpy as np\n",
        "import matplotlib.pyplot as plt\n",
        "import tensorflow as tf\n",
        "from tensorflow.keras.models import Sequential\n",
        "from tensorflow.keras.layers import Dense\n",
        "import logging\n",
        "logging.getLogger(\"tensorflow\").setLevel(logging.ERROR)\n",
        "tf.autograph.set_verbosity(0)\n"
      ],
      "metadata": {
        "id": "Lxab8PuX1Cwg"
      },
      "execution_count": 1,
      "outputs": []
    },
    {
      "cell_type": "code",
      "source": [
        "## DataSet\n",
        "# X,Y = load_coffee_data();\n",
        "# print(X.shape, Y.shape)  # (200, 2) (200, 1)"
      ],
      "metadata": {
        "id": "TNb-2aV91Hqf"
      },
      "execution_count": 2,
      "outputs": []
    },
    {
      "cell_type": "markdown",
      "source": [
        "Let's plot the coffee roasting data below. The two features are Temperature in Celsius and Duration in minutes. [Coffee Roasting at Home](https://www.merchantsofgreencoffee.com/how-to-roast-green-coffee-in-your-oven/) suggests that the duration is best kept between 12 and 15 minutes while the temp should be between 175 and 260 degrees Celsius. Of course, as temperature rises, the duration should shrink."
      ],
      "metadata": {
        "id": "viq71KbR1T3M"
      }
    },
    {
      "cell_type": "markdown",
      "source": [
        "### Normalize Data\n",
        "Fitting the weights to the data (back-propagation, covered in next week's lectures) will proceed more quickly if the data is normalized. This is the same procedure you used in Course 1 where features in the data are each normalized to have a similar range.\n",
        "The procedure below uses a Keras [normalization layer](https://keras.io/api/layers/preprocessing_layers/numerical/normalization/). It has the following steps:\n",
        "- create a \"Normalization Layer\". Note, as applied here, this is not a layer in your model.\n",
        "- 'adapt' the data. This learns the mean and variance of the data set and saves the values internally.\n",
        "- normalize the data.  \n",
        "It is important to apply normalization to any future data that utilizes the learned model."
      ],
      "metadata": {
        "id": "DO_T8GmQ1dwd"
      }
    },
    {
      "cell_type": "code",
      "source": [
        "# print(f\"Temperature Max, Min pre normalization: {np.max(X[:,0]):0.2f}, {np.min(X[:,0]):0.2f}\")\n",
        "# print(f\"Duration    Max, Min pre normalization: {np.max(X[:,1]):0.2f}, {np.min(X[:,1]):0.2f}\")\n",
        "# norm_l = tf.keras.layers.Normalization(axis=-1)\n",
        "# norm_l.adapt(X)  # learns mean, variance\n",
        "# Xn = norm_l(X)\n",
        "# print(f\"Temperature Max, Min post normalization: {np.max(Xn[:,0]):0.2f}, {np.min(Xn[:,0]):0.2f}\")\n",
        "# print(f\"Duration    Max, Min post normalization: {np.max(Xn[:,1]):0.2f}, {np.min(Xn[:,1]):0.2f}\")"
      ],
      "metadata": {
        "id": "-5ZO6z_71SOt"
      },
      "execution_count": 3,
      "outputs": []
    },
    {
      "cell_type": "code",
      "source": [
        "# output looks like this\n",
        "# Temperature Max, Min pre normalization: 284.99, 151.32\n",
        "# Duration    Max, Min pre normalization: 15.45, 11.51\n",
        "# Temperature Max, Min post normalization: 1.66, -1.69\n",
        "# Duration    Max, Min post normalization: 1.79, -1.70"
      ],
      "metadata": {
        "id": "7xnTYFRE1r0K"
      },
      "execution_count": 4,
      "outputs": []
    },
    {
      "cell_type": "markdown",
      "source": [
        "Tile/copy our data to increase the training set size and reduce the number of training epochs."
      ],
      "metadata": {
        "id": "NW3vTe_p14rK"
      }
    },
    {
      "cell_type": "code",
      "source": [
        "# Xt = np.tile(Xn,(1000,1))\n",
        "# Yt= np.tile(Y,(1000,1))\n",
        "# print(Xt.shape, Yt.shape)    # (200000, 2) (200000, 1)"
      ],
      "metadata": {
        "id": "6f4lBxEP11jA"
      },
      "execution_count": 5,
      "outputs": []
    },
    {
      "cell_type": "markdown",
      "source": [
        "## Tensorflow Model"
      ],
      "metadata": {
        "id": "4axJ7TAl2V8k"
      }
    },
    {
      "cell_type": "markdown",
      "source": [
        "### Model\n",
        "   <center> <img  src=\"https://drive.google.com/uc?export=view&id=1z7Ye0ENU4T41khvB3bGi1-5oTYJA2NK2\" width=\"200\" />   <center/>  \n",
        "Let's build the \"Coffee Roasting Network\" described in lecture. There are two layers with sigmoid activations as shown below:"
      ],
      "metadata": {
        "id": "xP3ZkKn-2aMI"
      }
    },
    {
      "cell_type": "code",
      "source": [
        "tf.random.set_seed(1234)  # applied to achieve consistent results\n",
        "model = Sequential(\n",
        "    [\n",
        "        tf.keras.Input(shape=(2,)),\n",
        "        Dense(3, activation='sigmoid', name = 'layer1'),\n",
        "        Dense(1, activation='sigmoid', name = 'layer2')\n",
        "     ]\n",
        ")"
      ],
      "metadata": {
        "id": "c9tClt0G19D8"
      },
      "execution_count": 6,
      "outputs": []
    },
    {
      "cell_type": "markdown",
      "source": [
        ">**Note 1:** The `tf.keras.Input(shape=(2,)),` specifies the expected shape of the input. This allows Tensorflow to size the weights and bias parameters at this point.  This is useful when exploring Tensorflow models. This statement can be omitted in practice and Tensorflow will size the network parameters when the input data is specified in the `model.fit` statement.  \n",
        ">**Note 2:** Including the sigmoid activation in the final layer is not considered best practice. It would instead be accounted for in the loss which improves numerical stability. This will be described in more detail in a later lab.\n",
        "\n",
        "The `model.summary()` provides a description of the network:"
      ],
      "metadata": {
        "id": "bZSBXuBq2sqi"
      }
    },
    {
      "cell_type": "code",
      "source": [
        "model.summary()"
      ],
      "metadata": {
        "colab": {
          "base_uri": "https://localhost:8080/",
          "height": 193
        },
        "id": "ukjzme5j2o7M",
        "outputId": "9aa5ae25-5891-4512-fa7a-8a2b650306a4"
      },
      "execution_count": 7,
      "outputs": [
        {
          "output_type": "display_data",
          "data": {
            "text/plain": [
              "\u001b[1mModel: \"sequential\"\u001b[0m\n"
            ],
            "text/html": [
              "<pre style=\"white-space:pre;overflow-x:auto;line-height:normal;font-family:Menlo,'DejaVu Sans Mono',consolas,'Courier New',monospace\"><span style=\"font-weight: bold\">Model: \"sequential\"</span>\n",
              "</pre>\n"
            ]
          },
          "metadata": {}
        },
        {
          "output_type": "display_data",
          "data": {
            "text/plain": [
              "┏━━━━━━━━━━━━━━━━━━━━━━━━━━━━━━━━━━━━━━┳━━━━━━━━━━━━━━━━━━━━━━━━━━━━━┳━━━━━━━━━━━━━━━━━┓\n",
              "┃\u001b[1m \u001b[0m\u001b[1mLayer (type)                        \u001b[0m\u001b[1m \u001b[0m┃\u001b[1m \u001b[0m\u001b[1mOutput Shape               \u001b[0m\u001b[1m \u001b[0m┃\u001b[1m \u001b[0m\u001b[1m        Param #\u001b[0m\u001b[1m \u001b[0m┃\n",
              "┡━━━━━━━━━━━━━━━━━━━━━━━━━━━━━━━━━━━━━━╇━━━━━━━━━━━━━━━━━━━━━━━━━━━━━╇━━━━━━━━━━━━━━━━━┩\n",
              "│ layer1 (\u001b[38;5;33mDense\u001b[0m)                       │ (\u001b[38;5;45mNone\u001b[0m, \u001b[38;5;34m3\u001b[0m)                   │               \u001b[38;5;34m9\u001b[0m │\n",
              "├──────────────────────────────────────┼─────────────────────────────┼─────────────────┤\n",
              "│ layer2 (\u001b[38;5;33mDense\u001b[0m)                       │ (\u001b[38;5;45mNone\u001b[0m, \u001b[38;5;34m1\u001b[0m)                   │               \u001b[38;5;34m4\u001b[0m │\n",
              "└──────────────────────────────────────┴─────────────────────────────┴─────────────────┘\n"
            ],
            "text/html": [
              "<pre style=\"white-space:pre;overflow-x:auto;line-height:normal;font-family:Menlo,'DejaVu Sans Mono',consolas,'Courier New',monospace\">┏━━━━━━━━━━━━━━━━━━━━━━━━━━━━━━━━━━━━━━┳━━━━━━━━━━━━━━━━━━━━━━━━━━━━━┳━━━━━━━━━━━━━━━━━┓\n",
              "┃<span style=\"font-weight: bold\"> Layer (type)                         </span>┃<span style=\"font-weight: bold\"> Output Shape                </span>┃<span style=\"font-weight: bold\">         Param # </span>┃\n",
              "┡━━━━━━━━━━━━━━━━━━━━━━━━━━━━━━━━━━━━━━╇━━━━━━━━━━━━━━━━━━━━━━━━━━━━━╇━━━━━━━━━━━━━━━━━┩\n",
              "│ layer1 (<span style=\"color: #0087ff; text-decoration-color: #0087ff\">Dense</span>)                       │ (<span style=\"color: #00d7ff; text-decoration-color: #00d7ff\">None</span>, <span style=\"color: #00af00; text-decoration-color: #00af00\">3</span>)                   │               <span style=\"color: #00af00; text-decoration-color: #00af00\">9</span> │\n",
              "├──────────────────────────────────────┼─────────────────────────────┼─────────────────┤\n",
              "│ layer2 (<span style=\"color: #0087ff; text-decoration-color: #0087ff\">Dense</span>)                       │ (<span style=\"color: #00d7ff; text-decoration-color: #00d7ff\">None</span>, <span style=\"color: #00af00; text-decoration-color: #00af00\">1</span>)                   │               <span style=\"color: #00af00; text-decoration-color: #00af00\">4</span> │\n",
              "└──────────────────────────────────────┴─────────────────────────────┴─────────────────┘\n",
              "</pre>\n"
            ]
          },
          "metadata": {}
        },
        {
          "output_type": "display_data",
          "data": {
            "text/plain": [
              "\u001b[1m Total params: \u001b[0m\u001b[38;5;34m13\u001b[0m (52.00 B)\n"
            ],
            "text/html": [
              "<pre style=\"white-space:pre;overflow-x:auto;line-height:normal;font-family:Menlo,'DejaVu Sans Mono',consolas,'Courier New',monospace\"><span style=\"font-weight: bold\"> Total params: </span><span style=\"color: #00af00; text-decoration-color: #00af00\">13</span> (52.00 B)\n",
              "</pre>\n"
            ]
          },
          "metadata": {}
        },
        {
          "output_type": "display_data",
          "data": {
            "text/plain": [
              "\u001b[1m Trainable params: \u001b[0m\u001b[38;5;34m13\u001b[0m (52.00 B)\n"
            ],
            "text/html": [
              "<pre style=\"white-space:pre;overflow-x:auto;line-height:normal;font-family:Menlo,'DejaVu Sans Mono',consolas,'Courier New',monospace\"><span style=\"font-weight: bold\"> Trainable params: </span><span style=\"color: #00af00; text-decoration-color: #00af00\">13</span> (52.00 B)\n",
              "</pre>\n"
            ]
          },
          "metadata": {}
        },
        {
          "output_type": "display_data",
          "data": {
            "text/plain": [
              "\u001b[1m Non-trainable params: \u001b[0m\u001b[38;5;34m0\u001b[0m (0.00 B)\n"
            ],
            "text/html": [
              "<pre style=\"white-space:pre;overflow-x:auto;line-height:normal;font-family:Menlo,'DejaVu Sans Mono',consolas,'Courier New',monospace\"><span style=\"font-weight: bold\"> Non-trainable params: </span><span style=\"color: #00af00; text-decoration-color: #00af00\">0</span> (0.00 B)\n",
              "</pre>\n"
            ]
          },
          "metadata": {}
        }
      ]
    },
    {
      "cell_type": "markdown",
      "source": [
        "The parameter counts shown in the summary correspond to the number of elements in the weight and bias arrays as shown below."
      ],
      "metadata": {
        "id": "J5mGqAt92733"
      }
    },
    {
      "cell_type": "code",
      "source": [
        "L1_num_params = 2 * 3 + 3   # W1 parameters  + b1 parameters\n",
        "L2_num_params = 3 * 1 + 1   # W2 parameters  + b2 parameters\n",
        "print(\"L1 params = \", L1_num_params, \", L2 params = \", L2_num_params  )"
      ],
      "metadata": {
        "colab": {
          "base_uri": "https://localhost:8080/"
        },
        "id": "lGxn2yUt241D",
        "outputId": "e44ced8d-cbda-4a7d-a26c-4ef8193d1866"
      },
      "execution_count": 8,
      "outputs": [
        {
          "output_type": "stream",
          "name": "stdout",
          "text": [
            "L1 params =  9 , L2 params =  4\n"
          ]
        }
      ]
    },
    {
      "cell_type": "markdown",
      "source": [
        "Let's examine the weights and biases Tensorflow has instantiated.  The weights $W$ should be of size (number of features in input, number of units in the layer) while the bias $b$ size should match the number of units in the layer:\n",
        "- In the first layer with 3 units, we expect W to have a size of (2,3) and $b$ should have 3 elements.\n",
        "- In the second layer with 1 unit, we expect W to have a size of (3,1) and $b$ should have 1 element."
      ],
      "metadata": {
        "id": "BQzcCKGw3CPY"
      }
    },
    {
      "cell_type": "code",
      "source": [
        "W1, b1 = model.get_layer(\"layer1\").get_weights()\n",
        "W2, b2 = model.get_layer(\"layer2\").get_weights()\n",
        "print(f\"W1{W1.shape}:\\n\", W1, f\"\\nb1{b1.shape}:\", b1)\n",
        "print(f\"W2{W2.shape}:\\n\", W2, f\"\\nb2{b2.shape}:\", b2)"
      ],
      "metadata": {
        "colab": {
          "base_uri": "https://localhost:8080/"
        },
        "id": "nLoQgIkb2_8F",
        "outputId": "b290d894-e676-41fa-ca71-ad1d9a0f69da"
      },
      "execution_count": 9,
      "outputs": [
        {
          "output_type": "stream",
          "name": "stdout",
          "text": [
            "W1(2, 3):\n",
            " [[ 0.11147714 -0.70379287  0.9459741 ]\n",
            " [-0.2902171   0.91919756  0.39598572]] \n",
            "b1(3,): [0. 0. 0.]\n",
            "W2(3, 1):\n",
            " [[-0.8276591 ]\n",
            " [-0.855613  ]\n",
            " [ 0.30865037]] \n",
            "b2(1,): [0.]\n"
          ]
        }
      ]
    },
    {
      "cell_type": "markdown",
      "source": [
        "The following statements will be described in detail in Week2. For now:\n",
        "- The `model.compile` statement defines a loss function and specifies a compile optimization.\n",
        "- The `model.fit` statement runs gradient descent and fits the weights to the data."
      ],
      "metadata": {
        "id": "I1ecevRH3Gd8"
      }
    },
    {
      "cell_type": "code",
      "source": [
        "# model.compile(\n",
        "#     loss = tf.keras.losses.BinaryCrossentropy(),\n",
        "#     optimizer = tf.keras.optimizers.Adam(learning_rate=0.01),\n",
        "# )\n",
        "\n",
        "# model.fit(\n",
        "#     Xt,Yt,\n",
        "#     epochs=10,\n",
        "# )\n"
      ],
      "metadata": {
        "id": "jMUF-cB23I7q"
      },
      "execution_count": null,
      "outputs": []
    },
    {
      "cell_type": "markdown",
      "source": [
        "#### Epochs and batches\n",
        "In the `fit` statement above, the number of `epochs` was set to 10. This specifies that the entire data set should be applied during training 10 times.  During training, you see output describing the progress of training that looks like this:\n",
        "```\n",
        "Epoch 1/10\n",
        "6250/6250 [==============================] - 6s 910us/step - loss: 0.1782\n",
        "```\n",
        "The first line, `Epoch 1/10`, describes which epoch the model is currently running. For efficiency, the training data set is broken into 'batches'. The default size of a batch in Tensorflow is 32. There are 200000 examples in our expanded data set or 6250 batches. The notation on the 2nd line `6250/6250 [====` is describing which batch has been executed."
      ],
      "metadata": {
        "id": "fbgINRuL3TfO"
      }
    },
    {
      "cell_type": "markdown",
      "source": [
        "#### Updated Weights\n",
        "After fitting, the weights have been updated:"
      ],
      "metadata": {
        "id": "aEmV3Kjr3ViB"
      }
    },
    {
      "cell_type": "code",
      "source": [
        "# W1, b1 = model.get_layer(\"layer1\").get_weights()\n",
        "# W2, b2 = model.get_layer(\"layer2\").get_weights()\n",
        "# print(\"W1:\\n\", W1, \"\\nb1:\", b1)\n",
        "# print(\"W2:\\n\", W2, \"\\nb2:\", b2)\n",
        "\n",
        "# output\n",
        "# W1:\n",
        "#  [[ -0.13  14.3  -11.1 ]\n",
        "#  [ -8.92  11.85  -0.25]]\n",
        "# b1: [-11.16   1.76 -12.1 ]\n",
        "# W2:\n",
        "#  [[-45.71]\n",
        "#  [-42.95]\n",
        "#  [-50.19]]\n",
        "# b2: [26.14]"
      ],
      "metadata": {
        "id": "gSA3CeQD3V7_"
      },
      "execution_count": 12,
      "outputs": []
    },
    {
      "cell_type": "markdown",
      "source": [
        "You can see that the values are different from what you printed before calling `model.fit()`. With these, the model should be able to discern what is a good or bad coffee roast.\n",
        "\n",
        "For the purpose of the next discussion, instead of using the weights you got right away, you will first set some weights we saved from a previous training run. This is so that this notebook remains robust to changes in Tensorflow over time. Different training runs can produce somewhat different results and the following discussion applies when the model has the weights you will load below.\n",
        "\n",
        "Feel free to re-run the notebook later with the cell below commented out to see if there is any difference. If you got a low loss after the training above (e.g. 0.002), then you will most likely get the same results."
      ],
      "metadata": {
        "id": "03M75G3M3f67"
      }
    },
    {
      "cell_type": "code",
      "source": [
        "# # After finishing the lab later, you can re-run all\n",
        "# # cells except this one to see if your trained model\n",
        "# # gets the same results.\n",
        "\n",
        "# # Set weights from a previous run.\n",
        "# W1 = np.array([\n",
        "#     [-8.94,  0.29, 12.89],\n",
        "#     [-0.17, -7.34, 10.79]] )\n",
        "# b1 = np.array([-9.87, -9.28,  1.01])\n",
        "# W2 = np.array([\n",
        "#     [-31.38],\n",
        "#     [-27.86],\n",
        "#     [-32.79]])\n",
        "# b2 = np.array([15.54])\n",
        "\n",
        "# # Replace the weights from your trained model with\n",
        "# # the values above.\n",
        "# model.get_layer(\"layer1\").set_weights([W1,b1])\n",
        "# model.get_layer(\"layer2\").set_weights([W2,b2])"
      ],
      "metadata": {
        "id": "_Kkgm_LR3aec"
      },
      "execution_count": 11,
      "outputs": []
    },
    {
      "cell_type": "code",
      "source": [
        "# # Check if the weights are successfully replaced\n",
        "# W1, b1 = model.get_layer(\"layer1\").get_weights()\n",
        "# W2, b2 = model.get_layer(\"layer2\").get_weights()\n",
        "# print(\"W1:\\n\", W1, \"\\nb1:\", b1)\n",
        "# print(\"W2:\\n\", W2, \"\\nb2:\", b2)\n",
        "\n",
        "# output\n",
        "# W1:\n",
        "#  [[-8.94  0.29 12.89]\n",
        "#  [-0.17 -7.34 10.79]]\n",
        "# b1: [-9.87 -9.28  1.01]\n",
        "# W2:\n",
        "#  [[-31.38]\n",
        "#  [-27.86]\n",
        "#  [-32.79]]\n",
        "# b2: [15.54]"
      ],
      "metadata": {
        "id": "r8arZEdA3ii1"
      },
      "execution_count": 13,
      "outputs": []
    },
    {
      "cell_type": "markdown",
      "source": [
        "### Predictions\n",
        "<img align=\"left\" src=\"https://drive.google.com/uc?export=view&id=1kjQ4YUVMfnU8lIg7cfcpuGz79Hn6-O7h\"     style=\" width:380px; padding: 10px 20px; \" >\n",
        "\n",
        "Once you have a trained model, you can then use it to make predictions. Recall that the output of our model is a probability. In this case, the probability of a good roast. To make a decision, one must apply the probability to a threshold. In this case, we will use 0.5"
      ],
      "metadata": {
        "id": "TcHQJzJ550of"
      }
    },
    {
      "cell_type": "markdown",
      "source": [
        "Let's start by creating input data. The model is expecting one or more examples where examples are in the rows of matrix. In this case, we have two features so the matrix will be (m,2) where m is the number of examples.\n",
        "Recall, we have normalized the input features so we must normalize our test data as well.   \n",
        "To make a prediction, you apply the `predict` method."
      ],
      "metadata": {
        "id": "y312EW1t52sD"
      }
    },
    {
      "cell_type": "code",
      "source": [
        "# X_test = np.array([\n",
        "#     [200,13.9],  # positive example\n",
        "#     [200,17]])   # negative example\n",
        "# X_testn = norm_l(X_test)\n",
        "# predictions = model.predict(X_testn)\n",
        "# print(\"predictions = \\n\", predictions)\n",
        "\n",
        "# output\n",
        "# predictions =\n",
        "#  [[9.63e-01]\n",
        "#  [3.03e-08]]"
      ],
      "metadata": {
        "id": "11aCFpnD6Zdi"
      },
      "execution_count": 16,
      "outputs": []
    },
    {
      "cell_type": "markdown",
      "source": [
        "To convert the probabilities to a decision, we apply a threshold:"
      ],
      "metadata": {
        "id": "ydfjg1TV6o4n"
      }
    },
    {
      "cell_type": "code",
      "source": [
        "# yhat = np.zeros_like(predictions)\n",
        "# for i in range(len(predictions)):\n",
        "#     if predictions[i] >= 0.5:\n",
        "#         yhat[i] = 1\n",
        "#     else:\n",
        "#         yhat[i] = 0\n",
        "# print(f\"decisions = \\n{yhat}\")\n",
        "\n",
        "# outputs\n",
        "# decisions =\n",
        "# [[1.]\n",
        "#  [0.]]"
      ],
      "metadata": {
        "id": "uz9impqn6gWV"
      },
      "execution_count": null,
      "outputs": []
    },
    {
      "cell_type": "markdown",
      "source": [
        "This can be accomplished more succinctly:"
      ],
      "metadata": {
        "id": "P0tQGrG760rq"
      }
    },
    {
      "cell_type": "code",
      "source": [
        "# yhat = (predictions >= 0.5).astype(int)\n",
        "# print(f\"decisions = \\n{yhat}\")\n",
        "\n",
        "# output\n",
        "# decisions =\n",
        "# [[1]\n",
        "#  [0]]"
      ],
      "metadata": {
        "id": "fxVicp9O61El"
      },
      "execution_count": null,
      "outputs": []
    },
    {
      "cell_type": "markdown",
      "source": [
        "## Layer Functions\n",
        "Let's examine the functions of the units to determine their role in the coffee roasting decision. We will plot the output of each node for all values of the inputs (duration,temp). Each unit is a logistic function whose output can range from zero to one. The shading in the graph represents the output value.\n",
        "> Note: In labs we typically number things starting at zero while the lectures may start with 1."
      ],
      "metadata": {
        "id": "cwBK2cbY681S"
      }
    },
    {
      "cell_type": "markdown",
      "source": [
        "The shading shows that each unit is responsible for a different \"bad roast\" region. unit 0 has larger values when the temperature is too low. unit 1 has larger values when the duration is too short and unit 2 has larger values for bad combinations of time/temp. It is worth noting that the network learned these functions on its own through the process of gradient descent. They are very much the same sort of functions a person might choose to make the same decisions.The function plot of the final layer is a bit more difficult to visualize. It's inputs are the output of the first layer. We know that the first layer uses sigmoids so their output range is between zero and one. We can create a 3-D plot that calculates the output for all possible combinations of the three inputs. This is shown below. Above, high output values correspond to 'bad roast' area's. Below, the maximum output is in area's where the three inputs are small values corresponding to 'good roast' area's."
      ],
      "metadata": {
        "id": "TspYqZC47FnP"
      }
    },
    {
      "cell_type": "markdown",
      "source": [
        "The final graph shows the whole network in action.  \n",
        "The left graph is the raw output of the final layer represented by the blue shading. This is overlaid on the training data represented by the X's and O's.   \n",
        "The right graph is the output of the network after a decision threshold. The X's and O's here correspond to decisions made by the network.  \n",
        "The following takes a moment to run"
      ],
      "metadata": {
        "id": "AIzT7QQd7QmC"
      }
    },
    {
      "cell_type": "markdown",
      "source": [
        "## Congratulations!\n",
        "You have built a small neural network in Tensorflow.\n",
        "The network demonstrated the ability of neural networks to handle complex decisions by dividing the decisions between multiple units."
      ],
      "metadata": {
        "id": "5DylDSTI7WX4"
      }
    },
    {
      "cell_type": "code",
      "source": [],
      "metadata": {
        "id": "Hb3ICHnM7In7"
      },
      "execution_count": null,
      "outputs": []
    }
  ]
}