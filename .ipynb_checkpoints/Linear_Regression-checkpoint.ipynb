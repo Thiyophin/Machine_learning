{
 "cells": [
  {
   "cell_type": "code",
   "execution_count": 1,
   "id": "0f21bd5f",
   "metadata": {},
   "outputs": [],
   "source": [
    "import pandas as pd\n",
    "import quandl # dataset providing package, now iam using kaggle for downloading sample data\n",
    "import math\n",
    "import numpy as np\n",
    "from sklearn import preprocessing, svm\n",
    "from sklearn.model_selection import train_test_split\n",
    "from sklearn.linear_model import LinearRegression"
   ]
  },
  {
   "cell_type": "code",
   "execution_count": 28,
   "id": "0f8fc9d2",
   "metadata": {},
   "outputs": [
    {
     "data": {
      "text/html": [
       "<div>\n",
       "<style scoped>\n",
       "    .dataframe tbody tr th:only-of-type {\n",
       "        vertical-align: middle;\n",
       "    }\n",
       "\n",
       "    .dataframe tbody tr th {\n",
       "        vertical-align: top;\n",
       "    }\n",
       "\n",
       "    .dataframe thead th {\n",
       "        text-align: right;\n",
       "    }\n",
       "</style>\n",
       "<table border=\"1\" class=\"dataframe\">\n",
       "  <thead>\n",
       "    <tr style=\"text-align: right;\">\n",
       "      <th></th>\n",
       "      <th>ticker</th>\n",
       "      <th>date</th>\n",
       "      <th>open</th>\n",
       "      <th>high</th>\n",
       "      <th>low</th>\n",
       "      <th>close</th>\n",
       "      <th>volume</th>\n",
       "      <th>ex-dividend</th>\n",
       "      <th>split_ratio</th>\n",
       "      <th>adj_open</th>\n",
       "      <th>adj_high</th>\n",
       "      <th>adj_low</th>\n",
       "      <th>adj_close</th>\n",
       "      <th>adj_volume</th>\n",
       "    </tr>\n",
       "  </thead>\n",
       "  <tbody>\n",
       "    <tr>\n",
       "      <th>0</th>\n",
       "      <td>A</td>\n",
       "      <td>1999-11-18</td>\n",
       "      <td>45.50</td>\n",
       "      <td>50.00</td>\n",
       "      <td>40.00</td>\n",
       "      <td>44.00</td>\n",
       "      <td>44739900.0</td>\n",
       "      <td>0.0</td>\n",
       "      <td>1.0</td>\n",
       "      <td>31.041951</td>\n",
       "      <td>34.112034</td>\n",
       "      <td>27.289627</td>\n",
       "      <td>30.018590</td>\n",
       "      <td>44739900.0</td>\n",
       "    </tr>\n",
       "    <tr>\n",
       "      <th>1</th>\n",
       "      <td>A</td>\n",
       "      <td>1999-11-19</td>\n",
       "      <td>42.94</td>\n",
       "      <td>43.00</td>\n",
       "      <td>39.81</td>\n",
       "      <td>40.38</td>\n",
       "      <td>10897100.0</td>\n",
       "      <td>0.0</td>\n",
       "      <td>1.0</td>\n",
       "      <td>29.295415</td>\n",
       "      <td>29.336350</td>\n",
       "      <td>27.160002</td>\n",
       "      <td>27.548879</td>\n",
       "      <td>10897100.0</td>\n",
       "    </tr>\n",
       "    <tr>\n",
       "      <th>2</th>\n",
       "      <td>A</td>\n",
       "      <td>1999-11-22</td>\n",
       "      <td>41.31</td>\n",
       "      <td>44.00</td>\n",
       "      <td>40.06</td>\n",
       "      <td>44.00</td>\n",
       "      <td>4705200.0</td>\n",
       "      <td>0.0</td>\n",
       "      <td>1.0</td>\n",
       "      <td>28.183363</td>\n",
       "      <td>30.018590</td>\n",
       "      <td>27.330562</td>\n",
       "      <td>30.018590</td>\n",
       "      <td>4705200.0</td>\n",
       "    </tr>\n",
       "    <tr>\n",
       "      <th>3</th>\n",
       "      <td>A</td>\n",
       "      <td>1999-11-23</td>\n",
       "      <td>42.50</td>\n",
       "      <td>43.63</td>\n",
       "      <td>40.25</td>\n",
       "      <td>40.25</td>\n",
       "      <td>4274400.0</td>\n",
       "      <td>0.0</td>\n",
       "      <td>1.0</td>\n",
       "      <td>28.995229</td>\n",
       "      <td>29.766161</td>\n",
       "      <td>27.460188</td>\n",
       "      <td>27.460188</td>\n",
       "      <td>4274400.0</td>\n",
       "    </tr>\n",
       "    <tr>\n",
       "      <th>4</th>\n",
       "      <td>A</td>\n",
       "      <td>1999-11-24</td>\n",
       "      <td>40.13</td>\n",
       "      <td>41.94</td>\n",
       "      <td>40.00</td>\n",
       "      <td>41.06</td>\n",
       "      <td>3464400.0</td>\n",
       "      <td>0.0</td>\n",
       "      <td>1.0</td>\n",
       "      <td>27.378319</td>\n",
       "      <td>28.613174</td>\n",
       "      <td>27.289627</td>\n",
       "      <td>28.012803</td>\n",
       "      <td>3464400.0</td>\n",
       "    </tr>\n",
       "  </tbody>\n",
       "</table>\n",
       "</div>"
      ],
      "text/plain": [
       "  ticker        date   open   high    low  close      volume  ex-dividend  \\\n",
       "0      A  1999-11-18  45.50  50.00  40.00  44.00  44739900.0          0.0   \n",
       "1      A  1999-11-19  42.94  43.00  39.81  40.38  10897100.0          0.0   \n",
       "2      A  1999-11-22  41.31  44.00  40.06  44.00   4705200.0          0.0   \n",
       "3      A  1999-11-23  42.50  43.63  40.25  40.25   4274400.0          0.0   \n",
       "4      A  1999-11-24  40.13  41.94  40.00  41.06   3464400.0          0.0   \n",
       "\n",
       "   split_ratio   adj_open   adj_high    adj_low  adj_close  adj_volume  \n",
       "0          1.0  31.041951  34.112034  27.289627  30.018590  44739900.0  \n",
       "1          1.0  29.295415  29.336350  27.160002  27.548879  10897100.0  \n",
       "2          1.0  28.183363  30.018590  27.330562  30.018590   4705200.0  \n",
       "3          1.0  28.995229  29.766161  27.460188  27.460188   4274400.0  \n",
       "4          1.0  27.378319  28.613174  27.289627  28.012803   3464400.0  "
      ]
     },
     "execution_count": 28,
     "metadata": {},
     "output_type": "execute_result"
    }
   ],
   "source": [
    "df = pd.read_csv('data_files/WIKI_PRICES.csv')\n",
    "df.head()"
   ]
  },
  {
   "cell_type": "code",
   "execution_count": 3,
   "id": "af97c35d",
   "metadata": {},
   "outputs": [],
   "source": [
    "df = df[['adj_open','adj_high','adj_low','adj_close','adj_volume']]"
   ]
  },
  {
   "cell_type": "code",
   "execution_count": 4,
   "id": "c1c4048b",
   "metadata": {},
   "outputs": [],
   "source": [
    "# high low percentage\n",
    "df['HL_PCT'] = (df['adj_high'] - df['adj_close']) / df['adj_close'] * 100.0"
   ]
  },
  {
   "cell_type": "code",
   "execution_count": 5,
   "id": "e5136e3e",
   "metadata": {},
   "outputs": [],
   "source": [
    "# percentage change new - old / old * 100.0\n",
    "df['PCT_change'] = (df['adj_close'] - df['adj_open']) / df['adj_open'] * 100.0"
   ]
  },
  {
   "cell_type": "code",
   "execution_count": 6,
   "id": "5b01bcf8",
   "metadata": {},
   "outputs": [],
   "source": [
    "df = df[['adj_close','HL_PCT','PCT_change','adj_volume']]"
   ]
  },
  {
   "cell_type": "code",
   "execution_count": 7,
   "id": "6de0e6cb",
   "metadata": {},
   "outputs": [
    {
     "data": {
      "text/html": [
       "<div>\n",
       "<style scoped>\n",
       "    .dataframe tbody tr th:only-of-type {\n",
       "        vertical-align: middle;\n",
       "    }\n",
       "\n",
       "    .dataframe tbody tr th {\n",
       "        vertical-align: top;\n",
       "    }\n",
       "\n",
       "    .dataframe thead th {\n",
       "        text-align: right;\n",
       "    }\n",
       "</style>\n",
       "<table border=\"1\" class=\"dataframe\">\n",
       "  <thead>\n",
       "    <tr style=\"text-align: right;\">\n",
       "      <th></th>\n",
       "      <th>adj_close</th>\n",
       "      <th>HL_PCT</th>\n",
       "      <th>PCT_change</th>\n",
       "      <th>adj_volume</th>\n",
       "    </tr>\n",
       "  </thead>\n",
       "  <tbody>\n",
       "    <tr>\n",
       "      <th>0</th>\n",
       "      <td>30.018590</td>\n",
       "      <td>13.636364</td>\n",
       "      <td>-3.296703</td>\n",
       "      <td>44739900.0</td>\n",
       "    </tr>\n",
       "    <tr>\n",
       "      <th>1</th>\n",
       "      <td>27.548879</td>\n",
       "      <td>6.488361</td>\n",
       "      <td>-5.961807</td>\n",
       "      <td>10897100.0</td>\n",
       "    </tr>\n",
       "    <tr>\n",
       "      <th>2</th>\n",
       "      <td>30.018590</td>\n",
       "      <td>0.000000</td>\n",
       "      <td>6.511740</td>\n",
       "      <td>4705200.0</td>\n",
       "    </tr>\n",
       "    <tr>\n",
       "      <th>3</th>\n",
       "      <td>27.460188</td>\n",
       "      <td>8.397516</td>\n",
       "      <td>-5.294118</td>\n",
       "      <td>4274400.0</td>\n",
       "    </tr>\n",
       "    <tr>\n",
       "      <th>4</th>\n",
       "      <td>28.012803</td>\n",
       "      <td>2.143205</td>\n",
       "      <td>2.317468</td>\n",
       "      <td>3464400.0</td>\n",
       "    </tr>\n",
       "  </tbody>\n",
       "</table>\n",
       "</div>"
      ],
      "text/plain": [
       "   adj_close     HL_PCT  PCT_change  adj_volume\n",
       "0  30.018590  13.636364   -3.296703  44739900.0\n",
       "1  27.548879   6.488361   -5.961807  10897100.0\n",
       "2  30.018590   0.000000    6.511740   4705200.0\n",
       "3  27.460188   8.397516   -5.294118   4274400.0\n",
       "4  28.012803   2.143205    2.317468   3464400.0"
      ]
     },
     "execution_count": 7,
     "metadata": {},
     "output_type": "execute_result"
    }
   ],
   "source": [
    "df.head()"
   ]
  },
  {
   "cell_type": "code",
   "execution_count": 8,
   "id": "0c6f0975",
   "metadata": {},
   "outputs": [],
   "source": [
    "forecast_col = 'adj_close'"
   ]
  },
  {
   "cell_type": "code",
   "execution_count": 9,
   "id": "47fde0cf",
   "metadata": {},
   "outputs": [],
   "source": [
    "df.fillna(-99999, inplace=True)"
   ]
  },
  {
   "cell_type": "code",
   "execution_count": 11,
   "id": "92c6a5d4",
   "metadata": {},
   "outputs": [
    {
     "name": "stdout",
     "output_type": "stream",
     "text": [
      "1538932\n"
     ]
    }
   ],
   "source": [
    "forecast_out = int(math.ceil(0.1 * len(df))) # 10 percentage data\n",
    "print(forecast_out)"
   ]
  },
  {
   "cell_type": "code",
   "execution_count": 12,
   "id": "cda1c19a",
   "metadata": {},
   "outputs": [],
   "source": [
    "df['label'] = df[forecast_col].shift(-forecast_out)\n",
    "df.dropna(inplace=True)"
   ]
  },
  {
   "cell_type": "code",
   "execution_count": 13,
   "id": "7f9b2c86",
   "metadata": {},
   "outputs": [
    {
     "data": {
      "text/html": [
       "<div>\n",
       "<style scoped>\n",
       "    .dataframe tbody tr th:only-of-type {\n",
       "        vertical-align: middle;\n",
       "    }\n",
       "\n",
       "    .dataframe tbody tr th {\n",
       "        vertical-align: top;\n",
       "    }\n",
       "\n",
       "    .dataframe thead th {\n",
       "        text-align: right;\n",
       "    }\n",
       "</style>\n",
       "<table border=\"1\" class=\"dataframe\">\n",
       "  <thead>\n",
       "    <tr style=\"text-align: right;\">\n",
       "      <th></th>\n",
       "      <th>adj_close</th>\n",
       "      <th>HL_PCT</th>\n",
       "      <th>PCT_change</th>\n",
       "      <th>adj_volume</th>\n",
       "      <th>label</th>\n",
       "    </tr>\n",
       "  </thead>\n",
       "  <tbody>\n",
       "    <tr>\n",
       "      <th>0</th>\n",
       "      <td>30.018590</td>\n",
       "      <td>13.636364</td>\n",
       "      <td>-3.296703</td>\n",
       "      <td>44739900.0</td>\n",
       "      <td>27.130393</td>\n",
       "    </tr>\n",
       "    <tr>\n",
       "      <th>1</th>\n",
       "      <td>27.548879</td>\n",
       "      <td>6.488361</td>\n",
       "      <td>-5.961807</td>\n",
       "      <td>10897100.0</td>\n",
       "      <td>27.400187</td>\n",
       "    </tr>\n",
       "    <tr>\n",
       "      <th>2</th>\n",
       "      <td>30.018590</td>\n",
       "      <td>0.000000</td>\n",
       "      <td>6.511740</td>\n",
       "      <td>4705200.0</td>\n",
       "      <td>26.956626</td>\n",
       "    </tr>\n",
       "    <tr>\n",
       "      <th>3</th>\n",
       "      <td>27.460188</td>\n",
       "      <td>8.397516</td>\n",
       "      <td>-5.294118</td>\n",
       "      <td>4274400.0</td>\n",
       "      <td>23.380701</td>\n",
       "    </tr>\n",
       "    <tr>\n",
       "      <th>4</th>\n",
       "      <td>28.012803</td>\n",
       "      <td>2.143205</td>\n",
       "      <td>2.317468</td>\n",
       "      <td>3464400.0</td>\n",
       "      <td>22.553025</td>\n",
       "    </tr>\n",
       "  </tbody>\n",
       "</table>\n",
       "</div>"
      ],
      "text/plain": [
       "   adj_close     HL_PCT  PCT_change  adj_volume      label\n",
       "0  30.018590  13.636364   -3.296703  44739900.0  27.130393\n",
       "1  27.548879   6.488361   -5.961807  10897100.0  27.400187\n",
       "2  30.018590   0.000000    6.511740   4705200.0  26.956626\n",
       "3  27.460188   8.397516   -5.294118   4274400.0  23.380701\n",
       "4  28.012803   2.143205    2.317468   3464400.0  22.553025"
      ]
     },
     "execution_count": 13,
     "metadata": {},
     "output_type": "execute_result"
    }
   ],
   "source": [
    "df.head()"
   ]
  },
  {
   "cell_type": "code",
   "execution_count": 14,
   "id": "5cfab17c",
   "metadata": {},
   "outputs": [
    {
     "data": {
      "text/html": [
       "<div>\n",
       "<style scoped>\n",
       "    .dataframe tbody tr th:only-of-type {\n",
       "        vertical-align: middle;\n",
       "    }\n",
       "\n",
       "    .dataframe tbody tr th {\n",
       "        vertical-align: top;\n",
       "    }\n",
       "\n",
       "    .dataframe thead th {\n",
       "        text-align: right;\n",
       "    }\n",
       "</style>\n",
       "<table border=\"1\" class=\"dataframe\">\n",
       "  <thead>\n",
       "    <tr style=\"text-align: right;\">\n",
       "      <th></th>\n",
       "      <th>adj_close</th>\n",
       "      <th>HL_PCT</th>\n",
       "      <th>PCT_change</th>\n",
       "      <th>adj_volume</th>\n",
       "      <th>label</th>\n",
       "    </tr>\n",
       "  </thead>\n",
       "  <tbody>\n",
       "    <tr>\n",
       "      <th>13850377</th>\n",
       "      <td>14.640</td>\n",
       "      <td>0.717213</td>\n",
       "      <td>0.273973</td>\n",
       "      <td>456800.0</td>\n",
       "      <td>23.95</td>\n",
       "    </tr>\n",
       "    <tr>\n",
       "      <th>13850378</th>\n",
       "      <td>14.750</td>\n",
       "      <td>0.000000</td>\n",
       "      <td>0.067843</td>\n",
       "      <td>771200.0</td>\n",
       "      <td>23.35</td>\n",
       "    </tr>\n",
       "    <tr>\n",
       "      <th>13850379</th>\n",
       "      <td>14.975</td>\n",
       "      <td>2.003339</td>\n",
       "      <td>1.525424</td>\n",
       "      <td>873200.0</td>\n",
       "      <td>23.55</td>\n",
       "    </tr>\n",
       "    <tr>\n",
       "      <th>13850380</th>\n",
       "      <td>14.730</td>\n",
       "      <td>2.647658</td>\n",
       "      <td>-1.438608</td>\n",
       "      <td>488400.0</td>\n",
       "      <td>24.65</td>\n",
       "    </tr>\n",
       "    <tr>\n",
       "      <th>13850381</th>\n",
       "      <td>14.605</td>\n",
       "      <td>2.636084</td>\n",
       "      <td>-1.517195</td>\n",
       "      <td>427000.0</td>\n",
       "      <td>23.60</td>\n",
       "    </tr>\n",
       "  </tbody>\n",
       "</table>\n",
       "</div>"
      ],
      "text/plain": [
       "          adj_close    HL_PCT  PCT_change  adj_volume  label\n",
       "13850377     14.640  0.717213    0.273973    456800.0  23.95\n",
       "13850378     14.750  0.000000    0.067843    771200.0  23.35\n",
       "13850379     14.975  2.003339    1.525424    873200.0  23.55\n",
       "13850380     14.730  2.647658   -1.438608    488400.0  24.65\n",
       "13850381     14.605  2.636084   -1.517195    427000.0  23.60"
      ]
     },
     "execution_count": 14,
     "metadata": {},
     "output_type": "execute_result"
    }
   ],
   "source": [
    "df.tail()"
   ]
  },
  {
   "cell_type": "code",
   "execution_count": 15,
   "id": "beba72a9",
   "metadata": {},
   "outputs": [],
   "source": [
    "X = np.array(df.drop(columns=['label']))  # Features\n",
    "y = np.array(df['label'])\n",
    "\n",
    "X = preprocessing.scale(X)"
   ]
  },
  {
   "cell_type": "code",
   "execution_count": 16,
   "id": "caa3fe35",
   "metadata": {},
   "outputs": [],
   "source": [
    "# X = X[:-forcast_out+1]\n",
    "df.dropna(inplace=True)\n",
    "y = np.array(df['label'])"
   ]
  },
  {
   "cell_type": "code",
   "execution_count": 17,
   "id": "260aaa31",
   "metadata": {},
   "outputs": [
    {
     "name": "stdout",
     "output_type": "stream",
     "text": [
      "13850382 13850382\n"
     ]
    }
   ],
   "source": [
    "print(len(X), len(y))"
   ]
  },
  {
   "cell_type": "code",
   "execution_count": 18,
   "id": "2fb67fd7",
   "metadata": {},
   "outputs": [],
   "source": [
    "X_train, X_test, y_train, y_test = train_test_split(X, y, test_size=0.2)"
   ]
  },
  {
   "cell_type": "code",
   "execution_count": 19,
   "id": "41909af1",
   "metadata": {},
   "outputs": [],
   "source": [
    "clf = LinearRegression()"
   ]
  },
  {
   "cell_type": "code",
   "execution_count": 20,
   "id": "8feac4cb",
   "metadata": {},
   "outputs": [
    {
     "data": {
      "text/html": [
       "<style>#sk-container-id-1 {color: black;}#sk-container-id-1 pre{padding: 0;}#sk-container-id-1 div.sk-toggleable {background-color: white;}#sk-container-id-1 label.sk-toggleable__label {cursor: pointer;display: block;width: 100%;margin-bottom: 0;padding: 0.3em;box-sizing: border-box;text-align: center;}#sk-container-id-1 label.sk-toggleable__label-arrow:before {content: \"▸\";float: left;margin-right: 0.25em;color: #696969;}#sk-container-id-1 label.sk-toggleable__label-arrow:hover:before {color: black;}#sk-container-id-1 div.sk-estimator:hover label.sk-toggleable__label-arrow:before {color: black;}#sk-container-id-1 div.sk-toggleable__content {max-height: 0;max-width: 0;overflow: hidden;text-align: left;background-color: #f0f8ff;}#sk-container-id-1 div.sk-toggleable__content pre {margin: 0.2em;color: black;border-radius: 0.25em;background-color: #f0f8ff;}#sk-container-id-1 input.sk-toggleable__control:checked~div.sk-toggleable__content {max-height: 200px;max-width: 100%;overflow: auto;}#sk-container-id-1 input.sk-toggleable__control:checked~label.sk-toggleable__label-arrow:before {content: \"▾\";}#sk-container-id-1 div.sk-estimator input.sk-toggleable__control:checked~label.sk-toggleable__label {background-color: #d4ebff;}#sk-container-id-1 div.sk-label input.sk-toggleable__control:checked~label.sk-toggleable__label {background-color: #d4ebff;}#sk-container-id-1 input.sk-hidden--visually {border: 0;clip: rect(1px 1px 1px 1px);clip: rect(1px, 1px, 1px, 1px);height: 1px;margin: -1px;overflow: hidden;padding: 0;position: absolute;width: 1px;}#sk-container-id-1 div.sk-estimator {font-family: monospace;background-color: #f0f8ff;border: 1px dotted black;border-radius: 0.25em;box-sizing: border-box;margin-bottom: 0.5em;}#sk-container-id-1 div.sk-estimator:hover {background-color: #d4ebff;}#sk-container-id-1 div.sk-parallel-item::after {content: \"\";width: 100%;border-bottom: 1px solid gray;flex-grow: 1;}#sk-container-id-1 div.sk-label:hover label.sk-toggleable__label {background-color: #d4ebff;}#sk-container-id-1 div.sk-serial::before {content: \"\";position: absolute;border-left: 1px solid gray;box-sizing: border-box;top: 0;bottom: 0;left: 50%;z-index: 0;}#sk-container-id-1 div.sk-serial {display: flex;flex-direction: column;align-items: center;background-color: white;padding-right: 0.2em;padding-left: 0.2em;position: relative;}#sk-container-id-1 div.sk-item {position: relative;z-index: 1;}#sk-container-id-1 div.sk-parallel {display: flex;align-items: stretch;justify-content: center;background-color: white;position: relative;}#sk-container-id-1 div.sk-item::before, #sk-container-id-1 div.sk-parallel-item::before {content: \"\";position: absolute;border-left: 1px solid gray;box-sizing: border-box;top: 0;bottom: 0;left: 50%;z-index: -1;}#sk-container-id-1 div.sk-parallel-item {display: flex;flex-direction: column;z-index: 1;position: relative;background-color: white;}#sk-container-id-1 div.sk-parallel-item:first-child::after {align-self: flex-end;width: 50%;}#sk-container-id-1 div.sk-parallel-item:last-child::after {align-self: flex-start;width: 50%;}#sk-container-id-1 div.sk-parallel-item:only-child::after {width: 0;}#sk-container-id-1 div.sk-dashed-wrapped {border: 1px dashed gray;margin: 0 0.4em 0.5em 0.4em;box-sizing: border-box;padding-bottom: 0.4em;background-color: white;}#sk-container-id-1 div.sk-label label {font-family: monospace;font-weight: bold;display: inline-block;line-height: 1.2em;}#sk-container-id-1 div.sk-label-container {text-align: center;}#sk-container-id-1 div.sk-container {/* jupyter's `normalize.less` sets `[hidden] { display: none; }` but bootstrap.min.css set `[hidden] { display: none !important; }` so we also need the `!important` here to be able to override the default hidden behavior on the sphinx rendered scikit-learn.org. See: https://github.com/scikit-learn/scikit-learn/issues/21755 */display: inline-block !important;position: relative;}#sk-container-id-1 div.sk-text-repr-fallback {display: none;}</style><div id=\"sk-container-id-1\" class=\"sk-top-container\"><div class=\"sk-text-repr-fallback\"><pre>LinearRegression()</pre><b>In a Jupyter environment, please rerun this cell to show the HTML representation or trust the notebook. <br />On GitHub, the HTML representation is unable to render, please try loading this page with nbviewer.org.</b></div><div class=\"sk-container\" hidden><div class=\"sk-item\"><div class=\"sk-estimator sk-toggleable\"><input class=\"sk-toggleable__control sk-hidden--visually\" id=\"sk-estimator-id-1\" type=\"checkbox\" checked><label for=\"sk-estimator-id-1\" class=\"sk-toggleable__label sk-toggleable__label-arrow\">LinearRegression</label><div class=\"sk-toggleable__content\"><pre>LinearRegression()</pre></div></div></div></div></div>"
      ],
      "text/plain": [
       "LinearRegression()"
      ]
     },
     "execution_count": 20,
     "metadata": {},
     "output_type": "execute_result"
    }
   ],
   "source": [
    "clf.fit(X_train, y_train)"
   ]
  },
  {
   "cell_type": "code",
   "execution_count": 21,
   "id": "98277bdc",
   "metadata": {},
   "outputs": [],
   "source": [
    "accuracy = clf.score(X_test, y_test)"
   ]
  },
  {
   "cell_type": "code",
   "execution_count": 22,
   "id": "0a2750a2",
   "metadata": {},
   "outputs": [
    {
     "data": {
      "text/plain": [
       "0.0006125025994003774"
      ]
     },
     "execution_count": 22,
     "metadata": {},
     "output_type": "execute_result"
    }
   ],
   "source": [
    "accuracy # less accuracy"
   ]
  },
  {
   "cell_type": "code",
   "execution_count": 24,
   "id": "eee6ca53",
   "metadata": {},
   "outputs": [],
   "source": [
    "from sklearn.model_selection import TimeSeriesSplit\n",
    "from sklearn.metrics import mean_squared_error, r2_score\n",
    "\n",
    "# 2. Time Series Cross-Validation\n",
    "tscv = TimeSeriesSplit(n_splits=5)  # Adjust n_splits as needed\n",
    "\n",
    "rmse_scores = []\n",
    "r2_scores = []\n",
    "\n",
    "for train_index, test_index in tscv.split(X):\n",
    "    X_train, X_test = X[train_index], X[test_index]\n",
    "    y_train, y_test = y[train_index], y[test_index]\n",
    "\n",
    "    # 3. Feature Scaling (Important: Scale WITHIN each fold)\n",
    "    scaler = preprocessing.StandardScaler() # Initialize the Scaler\n",
    "\n",
    "    X_train = scaler.fit_transform(X_train) # Fit and transform training data\n",
    "    X_test = scaler.transform(X_test) # Transform test data using the fitted scaler"
   ]
  },
  {
   "cell_type": "code",
   "execution_count": 25,
   "id": "3447c51d",
   "metadata": {},
   "outputs": [
    {
     "name": "stdout",
     "output_type": "stream",
     "text": [
      "Fold: 1, RMSE: 9917.635840156727, R-squared: -0.0015622666822932008\n",
      "\n",
      "Average RMSE: 9917.635840156727\n",
      "Average R-squared: -0.0015622666822932008\n"
     ]
    }
   ],
   "source": [
    "clf.fit(X_train, y_train)\n",
    "\n",
    "# 5. Prediction and Evaluation\n",
    "y_pred = clf.predict(X_test)\n",
    "rmse = np.sqrt(mean_squared_error(y_test, y_pred))\n",
    "r2 = r2_score(y_test, y_pred) # Use r2_score for R-squared\n",
    "\n",
    "rmse_scores.append(rmse)\n",
    "r2_scores.append(r2)\n",
    "\n",
    "print(f\"Fold: {len(rmse_scores)}, RMSE: {rmse}, R-squared: {r2}\")\n",
    "\n",
    "# 6. Overall Performance\n",
    "avg_rmse = np.mean(rmse_scores)\n",
    "avg_r2 = np.mean(r2_scores)\n",
    "\n",
    "print(f\"\\nAverage RMSE: {avg_rmse}\")\n",
    "print(f\"Average R-squared: {avg_r2}\")"
   ]
  },
  {
   "cell_type": "code",
   "execution_count": 26,
   "id": "58ab2984",
   "metadata": {},
   "outputs": [],
   "source": [
    "# performing badly"
   ]
  },
  {
   "cell_type": "code",
   "execution_count": 31,
   "id": "d19931df",
   "metadata": {},
   "outputs": [
    {
     "name": "stderr",
     "output_type": "stream",
     "text": [
      "/tmp/ipykernel_10991/3260954031.py:2: SettingWithCopyWarning: \n",
      "A value is trying to be set on a copy of a slice from a DataFrame.\n",
      "Try using .loc[row_indexer,col_indexer] = value instead\n",
      "\n",
      "See the caveats in the documentation: https://pandas.pydata.org/pandas-docs/stable/user_guide/indexing.html#returning-a-view-versus-a-copy\n",
      "  df['HL_PCT'] = (df['high'] - df['low']) / df['low'] * 100.0\n"
     ]
    }
   ],
   "source": [
    "df = df[['open', 'high', 'low', 'close', 'volume']]\n",
    "df['HL_PCT'] = (df['high'] - df['low']) / df['low'] * 100.0\n",
    "df['PCT_change'] = (df['close'] - df['open']) / df['open'] * 100.0\n",
    "\n",
    "df = df[['close', 'HL_PCT', 'PCT_change', 'volume']]\n",
    "\n",
    "forecast_col = 'close'\n",
    "df.fillna(-9999, inplace=True)\n",
    "forecast_out = int(math.ceil(0.01 * len(df)))\n",
    "df['label'] = df[forecast_col].shift(-forecast_out)\n",
    "\n",
    "X = np.array(df.drop(['label'], axis=1))\n",
    "X = preprocessing.scale(X)\n",
    "X_lately = X[-forecast_out:]\n",
    "X = X[:-forecast_out:]\n",
    "\n",
    "df.dropna(inplace=True)\n",
    "y = np.array(df['label'])\n",
    "X_train, X_test, y_train, y_test = train_test_split(X, y, test_size=0.2)\n",
    "\n",
    "clf = LinearRegression(n_jobs=-1)\n",
    "clf.fit(X_train, y_train)\n",
    "accuracy = clf.score(X_test, y_test)"
   ]
  },
  {
   "cell_type": "code",
   "execution_count": 33,
   "id": "8420f5f3",
   "metadata": {},
   "outputs": [
    {
     "name": "stdout",
     "output_type": "stream",
     "text": [
      "2.925321332503117e-06\n"
     ]
    }
   ],
   "source": [
    "print(accuracy) # performing badly"
   ]
  },
  {
   "cell_type": "markdown",
   "id": "4dcc7062",
   "metadata": {},
   "source": [
    "# Linear Regression from coursera course"
   ]
  },
  {
   "cell_type": "code",
   "execution_count": 3,
   "id": "dd3d0446",
   "metadata": {},
   "outputs": [],
   "source": [
    "import numpy as np\n",
    "import matplotlib.pyplot as plt"
   ]
  },
  {
   "cell_type": "markdown",
   "id": "dc7f782a",
   "metadata": {},
   "source": [
    "\n",
    "| Size (1000 sqft)     | Price (1000s of dollars) |\n",
    "| -------------------| ------------------------ |\n",
    "| 1.0               | 300                      |\n",
    "| 2.0               | 500                      |\n",
    "\n",
    "You would like to fit a linear regression model (shown above as the blue straight line) through these two points, so you can then predict price for other houses - say, a house with 1200 sqft."
   ]
  },
  {
   "cell_type": "code",
   "execution_count": 4,
   "id": "793340b5",
   "metadata": {},
   "outputs": [
    {
     "name": "stdout",
     "output_type": "stream",
     "text": [
      "x_train = [1. 2.]\n",
      "y_train = [300. 500.]\n"
     ]
    }
   ],
   "source": [
    "# x_train is the input variable (size in 1000 square feet)\n",
    "# y_train is the target (price in 1000s of dollars)\n",
    "x_train = np.array([1.0, 2.0])\n",
    "y_train = np.array([300.0, 500.0])\n",
    "print(f\"x_train = {x_train}\")\n",
    "print(f\"y_train = {y_train}\")"
   ]
  },
  {
   "cell_type": "code",
   "execution_count": 5,
   "id": "d5ce6ce9",
   "metadata": {},
   "outputs": [
    {
     "name": "stdout",
     "output_type": "stream",
     "text": [
      "x_train.shape: (2,)\n",
      "Number of training examples is: 2\n"
     ]
    }
   ],
   "source": [
    "# m is the number of training examples\n",
    "print(f\"x_train.shape: {x_train.shape}\")\n",
    "m = x_train.shape[0]\n",
    "print(f\"Number of training examples is: {m}\")"
   ]
  },
  {
   "cell_type": "code",
   "execution_count": 6,
   "id": "e77fe888",
   "metadata": {},
   "outputs": [
    {
     "name": "stdout",
     "output_type": "stream",
     "text": [
      "Number of training examples is: 2\n"
     ]
    }
   ],
   "source": [
    "# m is the number of training examples\n",
    "m = len(x_train)\n",
    "print(f\"Number of training examples is: {m}\")"
   ]
  },
  {
   "cell_type": "markdown",
   "id": "98828269",
   "metadata": {},
   "source": [
    "### Training example `x_i, y_i`\n",
    "\n",
    "You will use (x$^{(i)}$, y$^{(i)}$) to denote the $i^{th}$ training example. Since Python is zero indexed, (x$^{(0)}$, y$^{(0)}$) is (1.0, 300.0) and (x$^{(1)}$, y$^{(1)}$) is (2.0, 500.0). \n",
    "\n",
    "To access a value in a Numpy array, one indexes the array with the desired offset. For example the syntax to access location zero of `x_train` is `x_train[0]`.\n",
    "Run the next code block below to get the $i^{th}$ training example."
   ]
  },
  {
   "cell_type": "code",
   "execution_count": 7,
   "id": "a9771e8a",
   "metadata": {},
   "outputs": [
    {
     "name": "stdout",
     "output_type": "stream",
     "text": [
      "(x^(0), y^(0)) = (1.0, 300.0)\n"
     ]
    }
   ],
   "source": [
    "i = 0 # Change this to 1 to see (x^1, y^1)\n",
    "\n",
    "x_i = x_train[i]\n",
    "y_i = y_train[i]\n",
    "print(f\"(x^({i}), y^({i})) = ({x_i}, {y_i})\")"
   ]
  },
  {
   "cell_type": "markdown",
   "id": "f1873472",
   "metadata": {},
   "source": [
    "### plotting the data"
   ]
  },
  {
   "cell_type": "markdown",
   "id": "85ae2e17",
   "metadata": {},
   "source": [
    "You can plot these two points using the `scatter()` function in the `matplotlib` library, as shown in the cell below. \n",
    "- The function arguments `marker` and `c` show the points as red crosses (the default is blue dots).\n",
    "\n",
    "You can use other functions in the `matplotlib` library to set the title and labels to display"
   ]
  },
  {
   "cell_type": "code",
   "execution_count": 8,
   "id": "7c4680ac",
   "metadata": {},
   "outputs": [
    {
     "data": {
      "image/png": "[encoded data removed]",
      "text/plain": [
       "<Figure size 640x480 with 1 Axes>"
      ]
     },
     "metadata": {},
     "output_type": "display_data"
    }
   ],
   "source": [
    "# Plot the data points\n",
    "plt.scatter(x_train, y_train, marker='x', c='r')\n",
    "# Set the title\n",
    "plt.title(\"Housing Prices\")\n",
    "# Set the y-axis label\n",
    "plt.ylabel('Price (in 1000s of dollars)')\n",
    "# Set the x-axis label\n",
    "plt.xlabel('Size (1000 sqft)')\n",
    "plt.show()"
   ]
  },
  {
   "cell_type": "markdown",
   "id": "93fdb17c",
   "metadata": {},
   "source": [
    "### model function"
   ]
  },
  {
   "cell_type": "markdown",
   "id": "9a360ee3",
   "metadata": {},
   "source": [
    "As described in lecture, the model function for linear regression (which is a function that maps from x to y) is represented as\n",
    "\n",
    "𝑓𝑤,𝑏(𝑥(𝑖))=𝑤𝑥(𝑖)+𝑏(1)\n",
    "\n",
    "The formula above is how you can represent straight lines - different values of  𝑤\n",
    "  and  𝑏\n",
    "  give you different straight lines on the plot.\n",
    "\n",
    "\n",
    "\n",
    "\n",
    "\n",
    "Let's try to get a better intuition for this through the code blocks below. Let's start with  𝑤=100\n",
    "  and  𝑏=100\n",
    " .\n",
    "\n",
    "Note: You can come back to this cell to adjust the model's w and b parameters"
   ]
  },
  {
   "cell_type": "code",
   "execution_count": 17,
   "id": "4e675bbe",
   "metadata": {},
   "outputs": [],
   "source": [
    "w = 200\n",
    "b = 100"
   ]
  },
  {
   "cell_type": "markdown",
   "id": "31844eea",
   "metadata": {},
   "source": [
    "Now, let's compute the value of  𝑓𝑤,𝑏(𝑥(𝑖))\n",
    "  for your two data points. You can explicitly write this out for each data point as -\n",
    "\n",
    "for  𝑥(0)\n",
    " , f_wb = w * x[0] + b\n",
    "\n",
    "for  𝑥(1)\n",
    " , f_wb = w * x[1] + b\n",
    "\n",
    "For a large number of data points, this can get unwieldy and repetitive. So instead, you can calculate the function output in a for loop as shown in the compute_model_output function below.\n",
    "\n",
    "Note: The argument description (ndarray (m,)) describes a Numpy n-dimensional array of shape (m,). (scalar) describes an argument without dimensions, just a magnitude.\n",
    "Note: np.zero(n) will return a one-dimensional numpy array with  𝑛\n",
    "  entries"
   ]
  },
  {
   "cell_type": "code",
   "execution_count": 18,
   "id": "ccd084dd",
   "metadata": {},
   "outputs": [],
   "source": [
    "def compute_model_output(x, w, b):\n",
    "    \"\"\"\n",
    "    Computes the prediction of a linear model\n",
    "    Args:\n",
    "      x (ndarray (m,)): Data, m examples \n",
    "      w,b (scalar)    : model parameters  \n",
    "    Returns\n",
    "      f_wb (ndarray (m,)): model prediction\n",
    "    \"\"\"\n",
    "    m = x.shape[0]\n",
    "    f_wb = np.zeros(m)\n",
    "    for i in range(m):\n",
    "        f_wb[i] = w * x[i] + b\n",
    "        \n",
    "    return f_wb"
   ]
  },
  {
   "cell_type": "markdown",
   "id": "506b9ca5",
   "metadata": {},
   "source": [
    "Now let's call the compute_model_output function and plot the output.."
   ]
  },
  {
   "cell_type": "code",
   "execution_count": 19,
   "id": "c206ada9",
   "metadata": {},
   "outputs": [
    {
     "data": {
      "image/png": "[encoded data removed]",
      "text/plain": [
       "<Figure size 640x480 with 1 Axes>"
      ]
     },
     "metadata": {},
     "output_type": "display_data"
    }
   ],
   "source": [
    "tmp_f_wb = compute_model_output(x_train, w, b,)\n",
    "\n",
    "# Plot our model prediction\n",
    "plt.plot(x_train, tmp_f_wb, c='b',label='Our Prediction')\n",
    "\n",
    "# Plot the data points\n",
    "plt.scatter(x_train, y_train, marker='x', c='r',label='Actual Values')\n",
    "\n",
    "# Set the title\n",
    "plt.title(\"Housing Prices\")\n",
    "# Set the y-axis label\n",
    "plt.ylabel('Price (in 1000s of dollars)')\n",
    "# Set the x-axis label\n",
    "plt.xlabel('Size (1000 sqft)')\n",
    "plt.legend()\n",
    "plt.show()"
   ]
  },
  {
   "cell_type": "markdown",
   "id": "38bf4dbb",
   "metadata": {},
   "source": [
    "As you can see, setting  𝑤=100\n",
    "  and  𝑏=100\n",
    "  does not result in a line that fits our data.\n",
    "\n",
    "Challenge\n",
    "Try experimenting with different values of  𝑤\n",
    "  and  𝑏\n",
    " . What should the values be for a line that fits our data?\n",
    "\n",
    "Tip:\n",
    "You can use your mouse to click on the green \"Hints\" below to reveal some hints for choosing b and w.\n",
    "\n",
    "Hints\n",
    "Prediction\n",
    "Now that we have a model, we can use it to make our original prediction. Let's predict the price of a house with 1200 sqft. Since the units of 𝑥\n",
    " are in 1000's of sqft, 𝑥\n",
    " is 1.2."
   ]
  },
  {
   "cell_type": "code",
   "execution_count": 20,
   "id": "17ed25c1",
   "metadata": {},
   "outputs": [
    {
     "name": "stdout",
     "output_type": "stream",
     "text": [
      "$340 thousand dollars\n"
     ]
    }
   ],
   "source": [
    "w = 200                         \n",
    "b = 100    \n",
    "x_i = 1.2\n",
    "cost_1200sqft = w * x_i + b    \n",
    "\n",
    "print(f\"${cost_1200sqft:.0f} thousand dollars\")"
   ]
  },
  {
   "cell_type": "markdown",
   "id": "a53036b1",
   "metadata": {},
   "source": [
    "Congratulations!\n",
    "In this lab you have learned:\n",
    "\n",
    "Linear regression builds a model which establishes a relationship between features and targets\n",
    "In the example above, the feature was house size and the target was house price\n",
    "for simple linear regression, the model has two parameters  𝑤\n",
    "  and  𝑏\n",
    "  whose values are 'fit' using training data.\n",
    "once a model's parameters have been determined, the model can be used to make predictions on novel data."
   ]
  },
  {
   "cell_type": "markdown",
   "id": "32595c3d",
   "metadata": {},
   "source": [
    "### Above is an example for univariate linear regression"
   ]
  },
  {
   "cell_type": "markdown",
   "id": "a7d03474",
   "metadata": {},
   "source": [
    "# Gradient Descent"
   ]
  },
  {
   "cell_type": "markdown",
   "id": "aa15dbe3",
   "metadata": {},
   "source": [
    "### automate the process of optimizing  𝑤 and  𝑏 using gradient descent."
   ]
  },
  {
   "cell_type": "code",
   "execution_count": 1,
   "id": "c4a0a09d",
   "metadata": {},
   "outputs": [],
   "source": [
    "import math, copy\n",
    "import numpy as np\n",
    "import matplotlib.pyplot as plt"
   ]
  },
  {
   "cell_type": "markdown",
   "id": "630ab585",
   "metadata": {},
   "source": [
    "# Problem Statement\n",
    "\n",
    "Let's use the same two data points as before - a house with 1000 square feet sold for \\\\$300,000 and a house with 2000 square feet sold for \\\\$500,000.\n",
    "\n",
    "| Size (1000 sqft)     | Price (1000s of dollars) |\n",
    "| ----------------| ------------------------ |\n",
    "| 1               | 300                      |\n",
    "| 2               | 500                      |\n"
   ]
  },
  {
   "cell_type": "code",
   "execution_count": 5,
   "id": "b0914ed2",
   "metadata": {},
   "outputs": [],
   "source": [
    "# Load our data set\n",
    "x_train = np.array([1.0, 2.0])   #features\n",
    "y_train = np.array([300.0, 500.0])   #target value"
   ]
  },
  {
   "cell_type": "markdown",
   "id": "ccbe3787",
   "metadata": {},
   "source": [
    "### Compute_Cost\n",
    "This was developed in the last lab. We'll need it again here."
   ]
  },
  {
   "cell_type": "code",
   "execution_count": 6,
   "id": "a6206c36",
   "metadata": {},
   "outputs": [],
   "source": [
    "#Function to calculate the cost\n",
    "def compute_cost(x, y, w, b):\n",
    "   \n",
    "    m = x.shape[0] \n",
    "    cost = 0\n",
    "    \n",
    "    for i in range(m):\n",
    "        f_wb = w * x[i] + b\n",
    "        cost = cost + (f_wb - y[i])**2\n",
    "    total_cost = 1 / (2 * m) * cost\n",
    "\n",
    "    return total_cost"
   ]
  },
  {
   "cell_type": "markdown",
   "id": "395300ef",
   "metadata": {},
   "source": [
    "## Gradient descent summary\n",
    "So far in this course, you have developed a linear model that predicts $f_{w,b}(x^{(i)})$:\n",
    "$$f_{w,b}(x^{(i)}) = wx^{(i)} + b \\tag{1}$$\n",
    "In linear regression, you utilize input training data to fit the parameters $w$,$b$ by minimizing a measure of the error between our predictions $f_{w,b}(x^{(i)})$ and the actual data $y^{(i)}$. The measure is called the $cost$, $J(w,b)$. In training you measure the cost over all of our training samples $x^{(i)},y^{(i)}$\n",
    "$$J(w,b) = \\frac{1}{2m} \\sum\\limits_{i = 0}^{m-1} (f_{w,b}(x^{(i)}) - y^{(i)})^2\\tag{2}$$ "
   ]
  },
  {
   "cell_type": "markdown",
   "id": "702fee26",
   "metadata": {},
   "source": [
    "\n",
    "In lecture, *gradient descent* was described as:\n",
    "\n",
    "$$\\begin{align*} \\text{repeat}&\\text{ until convergence:} \\; \\lbrace \\newline\n",
    "\\;  w &= w -  \\alpha \\frac{\\partial J(w,b)}{\\partial w} \\tag{3}  \\; \\newline \n",
    " b &= b -  \\alpha \\frac{\\partial J(w,b)}{\\partial b}  \\newline \\rbrace\n",
    "\\end{align*}$$\n",
    "where, parameters $w$, $b$ are updated simultaneously.  \n",
    "The gradient is defined as:\n",
    "$$\n",
    "\\begin{align}\n",
    "\\frac{\\partial J(w,b)}{\\partial w}  &= \\frac{1}{m} \\sum\\limits_{i = 0}^{m-1} (f_{w,b}(x^{(i)}) - y^{(i)})x^{(i)} \\tag{4}\\\\\n",
    "  \\frac{\\partial J(w,b)}{\\partial b}  &= \\frac{1}{m} \\sum\\limits_{i = 0}^{m-1} (f_{w,b}(x^{(i)}) - y^{(i)}) \\tag{5}\\\\\n",
    "\\end{align}\n",
    "$$\n",
    "\n",
    "Here *simultaniously* means that you calculate the partial derivatives for all the parameters before updating any of the parameters."
   ]
  },
  {
   "cell_type": "markdown",
   "id": "6e29102f",
   "metadata": {},
   "source": [
    "## Implement Gradient Descent\n",
    "You will implement gradient descent algorithm for one feature. You will need three functions. \n",
    "- `compute_gradient` implementing equation (4) and (5) above\n",
    "- `compute_cost` implementing equation (2) above (code from previous lab)\n",
    "- `gradient_descent`, utilizing compute_gradient and compute_cost\n",
    "\n",
    "Conventions:\n",
    "- The naming of python variables containing partial derivatives follows this pattern,$\\frac{\\partial J(w,b)}{\\partial b}$  will be `dj_db`.\n",
    "- w.r.t is With Respect To, as in partial derivative of $J(wb)$ With Respect To $b$.\n"
   ]
  },
  {
   "cell_type": "markdown",
   "id": "b892b52b",
   "metadata": {},
   "source": [
    "### compute_gradient\n",
    "<a name='ex-01'></a>\n",
    "`compute_gradient`  implements (4) and (5) above and returns $\\frac{\\partial J(w,b)}{\\partial w}$,$\\frac{\\partial J(w,b)}{\\partial b}$. The embedded comments describe the operations."
   ]
  },
  {
   "cell_type": "code",
   "execution_count": 7,
   "id": "7c2a5b70",
   "metadata": {},
   "outputs": [],
   "source": [
    "def compute_gradient(x, y, w, b): \n",
    "    \"\"\"\n",
    "    Computes the gradient for linear regression \n",
    "    Args:\n",
    "      x (ndarray (m,)): Data, m examples \n",
    "      y (ndarray (m,)): target values\n",
    "      w,b (scalar)    : model parameters  \n",
    "    Returns\n",
    "      dj_dw (scalar): The gradient of the cost w.r.t. the parameters w\n",
    "      dj_db (scalar): The gradient of the cost w.r.t. the parameter b     \n",
    "     \"\"\"\n",
    "    \n",
    "    # Number of training examples\n",
    "    m = x.shape[0]    \n",
    "    dj_dw = 0\n",
    "    dj_db = 0\n",
    "    \n",
    "    for i in range(m):  \n",
    "        f_wb = w * x[i] + b \n",
    "        dj_dw_i = (f_wb - y[i]) * x[i] \n",
    "        dj_db_i = f_wb - y[i] \n",
    "        dj_db += dj_db_i\n",
    "        dj_dw += dj_dw_i \n",
    "    dj_dw = dj_dw / m \n",
    "    dj_db = dj_db / m \n",
    "        \n",
    "    return dj_dw, dj_db"
   ]
  },
  {
   "cell_type": "code",
   "execution_count": 9,
   "id": "c4015d55",
   "metadata": {},
   "outputs": [],
   "source": [
    "def gradient_descent(x, y, w_in, b_in, alpha, num_iters, cost_function, gradient_function): \n",
    "    \"\"\"\n",
    "    Performs gradient descent to fit w,b. Updates w,b by taking \n",
    "    num_iters gradient steps with learning rate alpha\n",
    "    \n",
    "    Args:\n",
    "      x (ndarray (m,))  : Data, m examples \n",
    "      y (ndarray (m,))  : target values\n",
    "      w_in,b_in (scalar): initial values of model parameters  \n",
    "      alpha (float):     Learning rate\n",
    "      num_iters (int):   number of iterations to run gradient descent\n",
    "      cost_function:     function to call to produce cost\n",
    "      gradient_function: function to call to produce gradient\n",
    "      \n",
    "    Returns:\n",
    "      w (scalar): Updated value of parameter after running gradient descent\n",
    "      b (scalar): Updated value of parameter after running gradient descent\n",
    "      J_history (List): History of cost values\n",
    "      p_history (list): History of parameters [w,b] \n",
    "      \"\"\"\n",
    "    \n",
    "    # An array to store cost J and w's at each iteration primarily for graphing later\n",
    "    J_history = []\n",
    "    p_history = []\n",
    "    b = b_in\n",
    "    w = w_in\n",
    "    \n",
    "    for i in range(num_iters):\n",
    "        # Calculate the gradient and update the parameters using gradient_function\n",
    "        dj_dw, dj_db = gradient_function(x, y, w , b)     \n",
    "\n",
    "        # Update Parameters using equation (3) above\n",
    "        b = b - alpha * dj_db                            \n",
    "        w = w - alpha * dj_dw                            \n",
    "\n",
    "        # Save cost J at each iteration\n",
    "        if i<100000:      # prevent resource exhaustion \n",
    "            J_history.append( cost_function(x, y, w , b))\n",
    "            p_history.append([w,b])\n",
    "        # Print cost every at intervals 10 times or as many iterations if < 10\n",
    "        if i% math.ceil(num_iters/10) == 0:\n",
    "            print(f\"Iteration {i:4}: Cost {J_history[-1]:0.2e} \",\n",
    "                  f\"dj_dw: {dj_dw: 0.3e}, dj_db: {dj_db: 0.3e}  \",\n",
    "                  f\"w: {w: 0.3e}, b:{b: 0.5e}\")\n",
    " \n",
    "    return w, b, J_history, p_history #return w and J,w history for graphing"
   ]
  },
  {
   "cell_type": "code",
   "execution_count": 10,
   "id": "096759ec",
   "metadata": {},
   "outputs": [
    {
     "name": "stdout",
     "output_type": "stream",
     "text": [
      "Iteration    0: Cost 7.93e+04  dj_dw: -6.500e+02, dj_db: -4.000e+02   w:  6.500e+00, b: 4.00000e+00\n",
      "Iteration 1000: Cost 3.41e+00  dj_dw: -3.712e-01, dj_db:  6.007e-01   w:  1.949e+02, b: 1.08228e+02\n",
      "Iteration 2000: Cost 7.93e-01  dj_dw: -1.789e-01, dj_db:  2.895e-01   w:  1.975e+02, b: 1.03966e+02\n",
      "Iteration 3000: Cost 1.84e-01  dj_dw: -8.625e-02, dj_db:  1.396e-01   w:  1.988e+02, b: 1.01912e+02\n",
      "Iteration 4000: Cost 4.28e-02  dj_dw: -4.158e-02, dj_db:  6.727e-02   w:  1.994e+02, b: 1.00922e+02\n",
      "Iteration 5000: Cost 9.95e-03  dj_dw: -2.004e-02, dj_db:  3.243e-02   w:  1.997e+02, b: 1.00444e+02\n",
      "Iteration 6000: Cost 2.31e-03  dj_dw: -9.660e-03, dj_db:  1.563e-02   w:  1.999e+02, b: 1.00214e+02\n",
      "Iteration 7000: Cost 5.37e-04  dj_dw: -4.657e-03, dj_db:  7.535e-03   w:  1.999e+02, b: 1.00103e+02\n",
      "Iteration 8000: Cost 1.25e-04  dj_dw: -2.245e-03, dj_db:  3.632e-03   w:  2.000e+02, b: 1.00050e+02\n",
      "Iteration 9000: Cost 2.90e-05  dj_dw: -1.082e-03, dj_db:  1.751e-03   w:  2.000e+02, b: 1.00024e+02\n",
      "(w,b) found by gradient descent: (199.9929,100.0116)\n"
     ]
    }
   ],
   "source": [
    "# initialize parameters\n",
    "w_init = 0\n",
    "b_init = 0\n",
    "# some gradient descent settings\n",
    "iterations = 10000\n",
    "tmp_alpha = 1.0e-2\n",
    "# run gradient descent\n",
    "w_final, b_final, J_hist, p_hist = gradient_descent(x_train ,y_train, w_init, b_init, tmp_alpha, \n",
    "                                                    iterations, compute_cost, compute_gradient)\n",
    "print(f\"(w,b) found by gradient descent: ({w_final:8.4f},{b_final:8.4f})\")"
   ]
  },
  {
   "cell_type": "code",
   "execution_count": 11,
   "id": "e19c8845",
   "metadata": {},
   "outputs": [
    {
     "data": {
      "image/png": "[encoded data removed]",
      "text/plain": [
       "<Figure size 1200x400 with 2 Axes>"
      ]
     },
     "metadata": {},
     "output_type": "display_data"
    }
   ],
   "source": [
    "# plot cost versus iteration  \n",
    "fig, (ax1, ax2) = plt.subplots(1, 2, constrained_layout=True, figsize=(12,4))\n",
    "ax1.plot(J_hist[:100])\n",
    "ax2.plot(1000 + np.arange(len(J_hist[1000:])), J_hist[1000:])\n",
    "ax1.set_title(\"Cost vs. iteration(start)\");  ax2.set_title(\"Cost vs. iteration (end)\")\n",
    "ax1.set_ylabel('Cost')            ;  ax2.set_ylabel('Cost') \n",
    "ax1.set_xlabel('iteration step')  ;  ax2.set_xlabel('iteration step') \n",
    "plt.show()"
   ]
  },
  {
   "cell_type": "markdown",
   "id": "a3f7fa66",
   "metadata": {},
   "source": [
    "### Predictions\n",
    "Now that you have discovered the optimal values for the parameters $w$ and $b$, you can now use the model to predict housing values based on our learned parameters. As expected, the predicted values are nearly the same as the training values for the same housing. Further, the value not in the prediction is in line with the expected value."
   ]
  },
  {
   "cell_type": "code",
   "execution_count": 12,
   "id": "8a036244",
   "metadata": {},
   "outputs": [
    {
     "name": "stdout",
     "output_type": "stream",
     "text": [
      "1000 sqft house prediction 300.0 Thousand dollars\n",
      "1200 sqft house prediction 340.0 Thousand dollars\n",
      "2000 sqft house prediction 500.0 Thousand dollars\n"
     ]
    }
   ],
   "source": [
    "print(f\"1000 sqft house prediction {w_final*1.0 + b_final:0.1f} Thousand dollars\")\n",
    "print(f\"1200 sqft house prediction {w_final*1.2 + b_final:0.1f} Thousand dollars\")\n",
    "print(f\"2000 sqft house prediction {w_final*2.0 + b_final:0.1f} Thousand dollars\")"
   ]
  },
  {
   "cell_type": "markdown",
   "id": "057ccec3",
   "metadata": {},
   "source": [
    "# Linear Regression using sklearn (for tip dataset from the book - 01_Machine-Learning-for-Absolute-Beginners.pdf"
   ]
  },
  {
   "cell_type": "code",
   "execution_count": 1,
   "id": "c35b3fd2",
   "metadata": {},
   "outputs": [],
   "source": [
    "# Import libraries\n",
    "import pandas as pd\n",
    "from sklearn.model_selection import train_test_split\n",
    "from sklearn.linear_model import LinearRegression\n",
    "import seaborn as sns\n",
    "import matplotlib.pyplot as plt\n",
    "from sklearn.metrics import mean_absolute_error"
   ]
  },
  {
   "cell_type": "code",
   "execution_count": 17,
   "id": "a811d926",
   "metadata": {},
   "outputs": [],
   "source": [
    "# Import dataset\n",
    "df = pd.read_csv('https://raw.githubusercontent.com/mwaskom/seaborn-data/master/tips.csv')"
   ]
  },
  {
   "cell_type": "code",
   "execution_count": 3,
   "id": "edab0df9",
   "metadata": {},
   "outputs": [
    {
     "data": {
      "text/html": [
       "<div>\n",
       "<style scoped>\n",
       "    .dataframe tbody tr th:only-of-type {\n",
       "        vertical-align: middle;\n",
       "    }\n",
       "\n",
       "    .dataframe tbody tr th {\n",
       "        vertical-align: top;\n",
       "    }\n",
       "\n",
       "    .dataframe thead th {\n",
       "        text-align: right;\n",
       "    }\n",
       "</style>\n",
       "<table border=\"1\" class=\"dataframe\">\n",
       "  <thead>\n",
       "    <tr style=\"text-align: right;\">\n",
       "      <th></th>\n",
       "      <th>total_bill</th>\n",
       "      <th>tip</th>\n",
       "      <th>sex</th>\n",
       "      <th>smoker</th>\n",
       "      <th>day</th>\n",
       "      <th>time</th>\n",
       "      <th>size</th>\n",
       "    </tr>\n",
       "  </thead>\n",
       "  <tbody>\n",
       "    <tr>\n",
       "      <th>0</th>\n",
       "      <td>16.99</td>\n",
       "      <td>1.01</td>\n",
       "      <td>Female</td>\n",
       "      <td>No</td>\n",
       "      <td>Sun</td>\n",
       "      <td>Dinner</td>\n",
       "      <td>2</td>\n",
       "    </tr>\n",
       "    <tr>\n",
       "      <th>1</th>\n",
       "      <td>10.34</td>\n",
       "      <td>1.66</td>\n",
       "      <td>Male</td>\n",
       "      <td>No</td>\n",
       "      <td>Sun</td>\n",
       "      <td>Dinner</td>\n",
       "      <td>3</td>\n",
       "    </tr>\n",
       "    <tr>\n",
       "      <th>2</th>\n",
       "      <td>21.01</td>\n",
       "      <td>3.50</td>\n",
       "      <td>Male</td>\n",
       "      <td>No</td>\n",
       "      <td>Sun</td>\n",
       "      <td>Dinner</td>\n",
       "      <td>3</td>\n",
       "    </tr>\n",
       "    <tr>\n",
       "      <th>3</th>\n",
       "      <td>23.68</td>\n",
       "      <td>3.31</td>\n",
       "      <td>Male</td>\n",
       "      <td>No</td>\n",
       "      <td>Sun</td>\n",
       "      <td>Dinner</td>\n",
       "      <td>2</td>\n",
       "    </tr>\n",
       "    <tr>\n",
       "      <th>4</th>\n",
       "      <td>24.59</td>\n",
       "      <td>3.61</td>\n",
       "      <td>Female</td>\n",
       "      <td>No</td>\n",
       "      <td>Sun</td>\n",
       "      <td>Dinner</td>\n",
       "      <td>4</td>\n",
       "    </tr>\n",
       "  </tbody>\n",
       "</table>\n",
       "</div>"
      ],
      "text/plain": [
       "   total_bill   tip     sex smoker  day    time  size\n",
       "0       16.99  1.01  Female     No  Sun  Dinner     2\n",
       "1       10.34  1.66    Male     No  Sun  Dinner     3\n",
       "2       21.01  3.50    Male     No  Sun  Dinner     3\n",
       "3       23.68  3.31    Male     No  Sun  Dinner     2\n",
       "4       24.59  3.61  Female     No  Sun  Dinner     4"
      ]
     },
     "execution_count": 3,
     "metadata": {},
     "output_type": "execute_result"
    }
   ],
   "source": [
    "df.head()"
   ]
  },
  {
   "cell_type": "code",
   "execution_count": 5,
   "id": "21270762",
   "metadata": {},
   "outputs": [
    {
     "data": {
      "text/plain": [
       "<Axes: >"
      ]
     },
     "execution_count": 5,
     "metadata": {},
     "output_type": "execute_result"
    },
    {
     "data": {
      "image/png": "[encoded data removed]",
      "text/plain": [
       "<Figure size 640x480 with 2 Axes>"
      ]
     },
     "metadata": {},
     "output_type": "display_data"
    }
   ],
   "source": [
    "# Exploratory data analysis : correlation and heatmap\n",
    "df1 = df.drop(['sex', 'smoker','day','time'], axis=1)\n",
    "df1_corr = df1.corr()\n",
    "sns.heatmap(df1_corr,annot=True,cmap='coolwarm')"
   ]
  },
  {
   "cell_type": "code",
   "execution_count": null,
   "id": "edf93386",
   "metadata": {},
   "outputs": [],
   "source": [
    "# closer the correlation to 1.0 or -1.0 its highly corelated, and 0.1 is low correlated\n",
    "# the thing we need to check if dependent variable (here tip, that we need to predict) is correlated to independent values (here total_bill and size)\n",
    "# it's correlated, so we need to add during making model\n",
    "# now we need to check if independent variable themselves have high level of correlation\n",
    "# in this case its a negative thing we dont need it, because it will like the jet mileage, where remaining space in fuel tank and fuel in tank are highly correlated independent variables\n",
    "# multi-collinear variables are liters of fuel consumed and liters of fuel in the tank to predict how far a jet plane will fly. Both independent variables are directly correlated, and in this case negatively\n",
    "# correlated; as one variables increases, the other variable decreases and vice versa. When both variables are used to predict the dependent variable of\n",
    "# how far the jet will fly, one effectively cancels the other out. It’s still worthwhile to include one of these variables in the model, but it would be redundant to include both variables.\n",
    "\n",
    "# we need avoid multi-collinearity\n",
    "# To avoid multi-collinearity, we need to check the relationship between each\n",
    "# combination of independent variables using a scatterplot, pairplot (a matrix\n",
    "# of relationships between variables), or correlation score. (here its less than 0.9 so its okay)"
   ]
  },
  {
   "cell_type": "code",
   "execution_count": 9,
   "id": "b625d4e2",
   "metadata": {},
   "outputs": [
    {
     "data": {
      "text/plain": [
       "<seaborn.axisgrid.PairGrid at 0x7b29043f1df0>"
      ]
     },
     "execution_count": 9,
     "metadata": {},
     "output_type": "execute_result"
    },
    {
     "data": {
      "image/png": "[encoded data removed]",
      "text/plain": [
       "<Figure size 750x750 with 12 Axes>"
      ]
     },
     "metadata": {},
     "output_type": "display_data"
    }
   ],
   "source": [
    "# Exploratory data analysis: pairplot\n",
    "sns.pairplot(df)"
   ]
  },
  {
   "cell_type": "raw",
   "id": "cff1f773",
   "metadata": {},
   "source": [
    "# here also we can ignore [(0,0),(1,1),(2,2)]"
   ]
  },
  {
   "cell_type": "code",
   "execution_count": 13,
   "id": "65b12713",
   "metadata": {},
   "outputs": [
    {
     "data": {
      "text/html": [
       "<div>\n",
       "<style scoped>\n",
       "    .dataframe tbody tr th:only-of-type {\n",
       "        vertical-align: middle;\n",
       "    }\n",
       "\n",
       "    .dataframe tbody tr th {\n",
       "        vertical-align: top;\n",
       "    }\n",
       "\n",
       "    .dataframe thead th {\n",
       "        text-align: right;\n",
       "    }\n",
       "</style>\n",
       "<table border=\"1\" class=\"dataframe\">\n",
       "  <thead>\n",
       "    <tr style=\"text-align: right;\">\n",
       "      <th></th>\n",
       "      <th>total_bill</th>\n",
       "      <th>tip</th>\n",
       "      <th>size</th>\n",
       "      <th>time_Dinner</th>\n",
       "      <th>time_Lunch</th>\n",
       "      <th>day_Fri</th>\n",
       "      <th>day_Sat</th>\n",
       "      <th>day_Sun</th>\n",
       "      <th>day_Thur</th>\n",
       "      <th>sex_Female</th>\n",
       "      <th>sex_Male</th>\n",
       "      <th>smoker_No</th>\n",
       "      <th>smoker_Yes</th>\n",
       "    </tr>\n",
       "  </thead>\n",
       "  <tbody>\n",
       "    <tr>\n",
       "      <th>total_bill</th>\n",
       "      <td>1.000000</td>\n",
       "      <td>0.675734</td>\n",
       "      <td>0.598315</td>\n",
       "      <td>0.183118</td>\n",
       "      <td>-0.183118</td>\n",
       "      <td>-0.086168</td>\n",
       "      <td>0.054919</td>\n",
       "      <td>0.122953</td>\n",
       "      <td>-0.138174</td>\n",
       "      <td>-0.144877</td>\n",
       "      <td>0.144877</td>\n",
       "      <td>-0.085721</td>\n",
       "      <td>0.085721</td>\n",
       "    </tr>\n",
       "    <tr>\n",
       "      <th>tip</th>\n",
       "      <td>0.675734</td>\n",
       "      <td>1.000000</td>\n",
       "      <td>0.489299</td>\n",
       "      <td>0.121629</td>\n",
       "      <td>-0.121629</td>\n",
       "      <td>-0.055463</td>\n",
       "      <td>-0.002790</td>\n",
       "      <td>0.125114</td>\n",
       "      <td>-0.095879</td>\n",
       "      <td>-0.088862</td>\n",
       "      <td>0.088862</td>\n",
       "      <td>-0.005929</td>\n",
       "      <td>0.005929</td>\n",
       "    </tr>\n",
       "    <tr>\n",
       "      <th>size</th>\n",
       "      <td>0.598315</td>\n",
       "      <td>0.489299</td>\n",
       "      <td>1.000000</td>\n",
       "      <td>0.103411</td>\n",
       "      <td>-0.103411</td>\n",
       "      <td>-0.142184</td>\n",
       "      <td>-0.041121</td>\n",
       "      <td>0.193054</td>\n",
       "      <td>-0.072598</td>\n",
       "      <td>-0.086195</td>\n",
       "      <td>0.086195</td>\n",
       "      <td>0.133178</td>\n",
       "      <td>-0.133178</td>\n",
       "    </tr>\n",
       "    <tr>\n",
       "      <th>time_Dinner</th>\n",
       "      <td>0.183118</td>\n",
       "      <td>0.121629</td>\n",
       "      <td>0.103411</td>\n",
       "      <td>1.000000</td>\n",
       "      <td>-1.000000</td>\n",
       "      <td>-0.058159</td>\n",
       "      <td>0.462709</td>\n",
       "      <td>0.418071</td>\n",
       "      <td>-0.917996</td>\n",
       "      <td>-0.205231</td>\n",
       "      <td>0.205231</td>\n",
       "      <td>-0.054921</td>\n",
       "      <td>0.054921</td>\n",
       "    </tr>\n",
       "    <tr>\n",
       "      <th>time_Lunch</th>\n",
       "      <td>-0.183118</td>\n",
       "      <td>-0.121629</td>\n",
       "      <td>-0.103411</td>\n",
       "      <td>-1.000000</td>\n",
       "      <td>1.000000</td>\n",
       "      <td>0.058159</td>\n",
       "      <td>-0.462709</td>\n",
       "      <td>-0.418071</td>\n",
       "      <td>0.917996</td>\n",
       "      <td>0.205231</td>\n",
       "      <td>-0.205231</td>\n",
       "      <td>0.054921</td>\n",
       "      <td>-0.054921</td>\n",
       "    </tr>\n",
       "    <tr>\n",
       "      <th>day_Fri</th>\n",
       "      <td>-0.086168</td>\n",
       "      <td>-0.055463</td>\n",
       "      <td>-0.142184</td>\n",
       "      <td>-0.058159</td>\n",
       "      <td>0.058159</td>\n",
       "      <td>1.000000</td>\n",
       "      <td>-0.216319</td>\n",
       "      <td>-0.195451</td>\n",
       "      <td>-0.169608</td>\n",
       "      <td>0.071060</td>\n",
       "      <td>-0.071060</td>\n",
       "      <td>-0.244316</td>\n",
       "      <td>0.244316</td>\n",
       "    </tr>\n",
       "    <tr>\n",
       "      <th>day_Sat</th>\n",
       "      <td>0.054919</td>\n",
       "      <td>-0.002790</td>\n",
       "      <td>-0.041121</td>\n",
       "      <td>0.462709</td>\n",
       "      <td>-0.462709</td>\n",
       "      <td>-0.216319</td>\n",
       "      <td>1.000000</td>\n",
       "      <td>-0.500682</td>\n",
       "      <td>-0.434480</td>\n",
       "      <td>-0.053957</td>\n",
       "      <td>0.053957</td>\n",
       "      <td>-0.155744</td>\n",
       "      <td>0.155744</td>\n",
       "    </tr>\n",
       "    <tr>\n",
       "      <th>day_Sun</th>\n",
       "      <td>0.122953</td>\n",
       "      <td>0.125114</td>\n",
       "      <td>0.193054</td>\n",
       "      <td>0.418071</td>\n",
       "      <td>-0.418071</td>\n",
       "      <td>-0.195451</td>\n",
       "      <td>-0.500682</td>\n",
       "      <td>1.000000</td>\n",
       "      <td>-0.392566</td>\n",
       "      <td>-0.168106</td>\n",
       "      <td>0.168106</td>\n",
       "      <td>0.181624</td>\n",
       "      <td>-0.181624</td>\n",
       "    </tr>\n",
       "    <tr>\n",
       "      <th>day_Thur</th>\n",
       "      <td>-0.138174</td>\n",
       "      <td>-0.095879</td>\n",
       "      <td>-0.072598</td>\n",
       "      <td>-0.917996</td>\n",
       "      <td>0.917996</td>\n",
       "      <td>-0.169608</td>\n",
       "      <td>-0.434480</td>\n",
       "      <td>-0.392566</td>\n",
       "      <td>1.000000</td>\n",
       "      <td>0.194445</td>\n",
       "      <td>-0.194445</td>\n",
       "      <td>0.128534</td>\n",
       "      <td>-0.128534</td>\n",
       "    </tr>\n",
       "    <tr>\n",
       "      <th>sex_Female</th>\n",
       "      <td>-0.144877</td>\n",
       "      <td>-0.088862</td>\n",
       "      <td>-0.086195</td>\n",
       "      <td>-0.205231</td>\n",
       "      <td>0.205231</td>\n",
       "      <td>0.071060</td>\n",
       "      <td>-0.053957</td>\n",
       "      <td>-0.168106</td>\n",
       "      <td>0.194445</td>\n",
       "      <td>1.000000</td>\n",
       "      <td>-1.000000</td>\n",
       "      <td>0.002816</td>\n",
       "      <td>-0.002816</td>\n",
       "    </tr>\n",
       "    <tr>\n",
       "      <th>sex_Male</th>\n",
       "      <td>0.144877</td>\n",
       "      <td>0.088862</td>\n",
       "      <td>0.086195</td>\n",
       "      <td>0.205231</td>\n",
       "      <td>-0.205231</td>\n",
       "      <td>-0.071060</td>\n",
       "      <td>0.053957</td>\n",
       "      <td>0.168106</td>\n",
       "      <td>-0.194445</td>\n",
       "      <td>-1.000000</td>\n",
       "      <td>1.000000</td>\n",
       "      <td>-0.002816</td>\n",
       "      <td>0.002816</td>\n",
       "    </tr>\n",
       "    <tr>\n",
       "      <th>smoker_No</th>\n",
       "      <td>-0.085721</td>\n",
       "      <td>-0.005929</td>\n",
       "      <td>0.133178</td>\n",
       "      <td>-0.054921</td>\n",
       "      <td>0.054921</td>\n",
       "      <td>-0.244316</td>\n",
       "      <td>-0.155744</td>\n",
       "      <td>0.181624</td>\n",
       "      <td>0.128534</td>\n",
       "      <td>0.002816</td>\n",
       "      <td>-0.002816</td>\n",
       "      <td>1.000000</td>\n",
       "      <td>-1.000000</td>\n",
       "    </tr>\n",
       "    <tr>\n",
       "      <th>smoker_Yes</th>\n",
       "      <td>0.085721</td>\n",
       "      <td>0.005929</td>\n",
       "      <td>-0.133178</td>\n",
       "      <td>0.054921</td>\n",
       "      <td>-0.054921</td>\n",
       "      <td>0.244316</td>\n",
       "      <td>0.155744</td>\n",
       "      <td>-0.181624</td>\n",
       "      <td>-0.128534</td>\n",
       "      <td>-0.002816</td>\n",
       "      <td>0.002816</td>\n",
       "      <td>-1.000000</td>\n",
       "      <td>1.000000</td>\n",
       "    </tr>\n",
       "  </tbody>\n",
       "</table>\n",
       "</div>"
      ],
      "text/plain": [
       "             total_bill       tip      size  time_Dinner  time_Lunch  \\\n",
       "total_bill     1.000000  0.675734  0.598315     0.183118   -0.183118   \n",
       "tip            0.675734  1.000000  0.489299     0.121629   -0.121629   \n",
       "size           0.598315  0.489299  1.000000     0.103411   -0.103411   \n",
       "time_Dinner    0.183118  0.121629  0.103411     1.000000   -1.000000   \n",
       "time_Lunch    -0.183118 -0.121629 -0.103411    -1.000000    1.000000   \n",
       "day_Fri       -0.086168 -0.055463 -0.142184    -0.058159    0.058159   \n",
       "day_Sat        0.054919 -0.002790 -0.041121     0.462709   -0.462709   \n",
       "day_Sun        0.122953  0.125114  0.193054     0.418071   -0.418071   \n",
       "day_Thur      -0.138174 -0.095879 -0.072598    -0.917996    0.917996   \n",
       "sex_Female    -0.144877 -0.088862 -0.086195    -0.205231    0.205231   \n",
       "sex_Male       0.144877  0.088862  0.086195     0.205231   -0.205231   \n",
       "smoker_No     -0.085721 -0.005929  0.133178    -0.054921    0.054921   \n",
       "smoker_Yes     0.085721  0.005929 -0.133178     0.054921   -0.054921   \n",
       "\n",
       "              day_Fri   day_Sat   day_Sun  day_Thur  sex_Female  sex_Male  \\\n",
       "total_bill  -0.086168  0.054919  0.122953 -0.138174   -0.144877  0.144877   \n",
       "tip         -0.055463 -0.002790  0.125114 -0.095879   -0.088862  0.088862   \n",
       "size        -0.142184 -0.041121  0.193054 -0.072598   -0.086195  0.086195   \n",
       "time_Dinner -0.058159  0.462709  0.418071 -0.917996   -0.205231  0.205231   \n",
       "time_Lunch   0.058159 -0.462709 -0.418071  0.917996    0.205231 -0.205231   \n",
       "day_Fri      1.000000 -0.216319 -0.195451 -0.169608    0.071060 -0.071060   \n",
       "day_Sat     -0.216319  1.000000 -0.500682 -0.434480   -0.053957  0.053957   \n",
       "day_Sun     -0.195451 -0.500682  1.000000 -0.392566   -0.168106  0.168106   \n",
       "day_Thur    -0.169608 -0.434480 -0.392566  1.000000    0.194445 -0.194445   \n",
       "sex_Female   0.071060 -0.053957 -0.168106  0.194445    1.000000 -1.000000   \n",
       "sex_Male    -0.071060  0.053957  0.168106 -0.194445   -1.000000  1.000000   \n",
       "smoker_No   -0.244316 -0.155744  0.181624  0.128534    0.002816 -0.002816   \n",
       "smoker_Yes   0.244316  0.155744 -0.181624 -0.128534   -0.002816  0.002816   \n",
       "\n",
       "             smoker_No  smoker_Yes  \n",
       "total_bill   -0.085721    0.085721  \n",
       "tip          -0.005929    0.005929  \n",
       "size          0.133178   -0.133178  \n",
       "time_Dinner  -0.054921    0.054921  \n",
       "time_Lunch    0.054921   -0.054921  \n",
       "day_Fri      -0.244316    0.244316  \n",
       "day_Sat      -0.155744    0.155744  \n",
       "day_Sun       0.181624   -0.181624  \n",
       "day_Thur      0.128534   -0.128534  \n",
       "sex_Female    0.002816   -0.002816  \n",
       "sex_Male     -0.002816    0.002816  \n",
       "smoker_No     1.000000   -1.000000  \n",
       "smoker_Yes   -1.000000    1.000000  "
      ]
     },
     "execution_count": 13,
     "metadata": {},
     "output_type": "execute_result"
    }
   ],
   "source": [
    "# Convert non-numeric data using one-hot encoding\n",
    "df = pd.get_dummies(df, columns=['time', 'day','sex','smoker'])\n",
    "df_corr = df.corr()\n",
    "df_corr"
   ]
  },
  {
   "cell_type": "code",
   "execution_count": 14,
   "id": "02ec9d60",
   "metadata": {},
   "outputs": [],
   "source": [
    "# 1,first we need to check if dependent variable (tip here) is how much correlated to independent variable\n",
    "# for that look the column 2 (tips's column) - the author is taking out smoker because its so less than 0.1 0r -0.1\n",
    "# there is no correlation between tip and smoker character\n",
    "# 2, now we have to look independent variable correlation, here total_bill and size is not highly correlated if its values is like 0.98 its a red flag, here its 0.598315\n",
    "# the day_thur variable and time_dinner , time_lunch variable are correlated at a high level but the author is not removing it, its remove it\n",
    "# if we remove day_thur then we have to also remove day variable itself"
   ]
  },
  {
   "cell_type": "code",
   "execution_count": 25,
   "id": "b2a57819",
   "metadata": {},
   "outputs": [],
   "source": [
    "# Assign X and y variables\n",
    "X = df.drop(['tip','smoker','day'],axis=1)\n",
    "X = pd.get_dummies(X, columns=['time','sex'])\n",
    "y = df['tip']"
   ]
  },
  {
   "cell_type": "code",
   "execution_count": 26,
   "id": "f6958c3a",
   "metadata": {},
   "outputs": [
    {
     "data": {
      "text/html": [
       "<div>\n",
       "<style scoped>\n",
       "    .dataframe tbody tr th:only-of-type {\n",
       "        vertical-align: middle;\n",
       "    }\n",
       "\n",
       "    .dataframe tbody tr th {\n",
       "        vertical-align: top;\n",
       "    }\n",
       "\n",
       "    .dataframe thead th {\n",
       "        text-align: right;\n",
       "    }\n",
       "</style>\n",
       "<table border=\"1\" class=\"dataframe\">\n",
       "  <thead>\n",
       "    <tr style=\"text-align: right;\">\n",
       "      <th></th>\n",
       "      <th>total_bill</th>\n",
       "      <th>size</th>\n",
       "      <th>time_Dinner</th>\n",
       "      <th>time_Lunch</th>\n",
       "      <th>sex_Female</th>\n",
       "      <th>sex_Male</th>\n",
       "    </tr>\n",
       "  </thead>\n",
       "  <tbody>\n",
       "    <tr>\n",
       "      <th>0</th>\n",
       "      <td>16.99</td>\n",
       "      <td>2</td>\n",
       "      <td>True</td>\n",
       "      <td>False</td>\n",
       "      <td>True</td>\n",
       "      <td>False</td>\n",
       "    </tr>\n",
       "    <tr>\n",
       "      <th>1</th>\n",
       "      <td>10.34</td>\n",
       "      <td>3</td>\n",
       "      <td>True</td>\n",
       "      <td>False</td>\n",
       "      <td>False</td>\n",
       "      <td>True</td>\n",
       "    </tr>\n",
       "    <tr>\n",
       "      <th>2</th>\n",
       "      <td>21.01</td>\n",
       "      <td>3</td>\n",
       "      <td>True</td>\n",
       "      <td>False</td>\n",
       "      <td>False</td>\n",
       "      <td>True</td>\n",
       "    </tr>\n",
       "    <tr>\n",
       "      <th>3</th>\n",
       "      <td>23.68</td>\n",
       "      <td>2</td>\n",
       "      <td>True</td>\n",
       "      <td>False</td>\n",
       "      <td>False</td>\n",
       "      <td>True</td>\n",
       "    </tr>\n",
       "    <tr>\n",
       "      <th>4</th>\n",
       "      <td>24.59</td>\n",
       "      <td>4</td>\n",
       "      <td>True</td>\n",
       "      <td>False</td>\n",
       "      <td>True</td>\n",
       "      <td>False</td>\n",
       "    </tr>\n",
       "  </tbody>\n",
       "</table>\n",
       "</div>"
      ],
      "text/plain": [
       "   total_bill  size  time_Dinner  time_Lunch  sex_Female  sex_Male\n",
       "0       16.99     2         True       False        True     False\n",
       "1       10.34     3         True       False       False      True\n",
       "2       21.01     3         True       False       False      True\n",
       "3       23.68     2         True       False       False      True\n",
       "4       24.59     4         True       False        True     False"
      ]
     },
     "execution_count": 26,
     "metadata": {},
     "output_type": "execute_result"
    }
   ],
   "source": [
    "X.head()"
   ]
  },
  {
   "cell_type": "code",
   "execution_count": 27,
   "id": "8c5b4cb4",
   "metadata": {},
   "outputs": [],
   "source": [
    "# split data into test/train set (70/30 split) and shuffle\n",
    "X_train, X_test, y_train, y_test = train_test_split(X,y, test_size=0.3,shuffle=True)"
   ]
  },
  {
   "cell_type": "code",
   "execution_count": 28,
   "id": "0d15da18",
   "metadata": {},
   "outputs": [],
   "source": [
    "# Assign algorithm\n",
    "model = LinearRegression()"
   ]
  },
  {
   "cell_type": "code",
   "execution_count": 29,
   "id": "542173f1",
   "metadata": {},
   "outputs": [
    {
     "data": {
      "text/html": [
       "<style>#sk-container-id-1 {color: black;}#sk-container-id-1 pre{padding: 0;}#sk-container-id-1 div.sk-toggleable {background-color: white;}#sk-container-id-1 label.sk-toggleable__label {cursor: pointer;display: block;width: 100%;margin-bottom: 0;padding: 0.3em;box-sizing: border-box;text-align: center;}#sk-container-id-1 label.sk-toggleable__label-arrow:before {content: \"▸\";float: left;margin-right: 0.25em;color: #696969;}#sk-container-id-1 label.sk-toggleable__label-arrow:hover:before {color: black;}#sk-container-id-1 div.sk-estimator:hover label.sk-toggleable__label-arrow:before {color: black;}#sk-container-id-1 div.sk-toggleable__content {max-height: 0;max-width: 0;overflow: hidden;text-align: left;background-color: #f0f8ff;}#sk-container-id-1 div.sk-toggleable__content pre {margin: 0.2em;color: black;border-radius: 0.25em;background-color: #f0f8ff;}#sk-container-id-1 input.sk-toggleable__control:checked~div.sk-toggleable__content {max-height: 200px;max-width: 100%;overflow: auto;}#sk-container-id-1 input.sk-toggleable__control:checked~label.sk-toggleable__label-arrow:before {content: \"▾\";}#sk-container-id-1 div.sk-estimator input.sk-toggleable__control:checked~label.sk-toggleable__label {background-color: #d4ebff;}#sk-container-id-1 div.sk-label input.sk-toggleable__control:checked~label.sk-toggleable__label {background-color: #d4ebff;}#sk-container-id-1 input.sk-hidden--visually {border: 0;clip: rect(1px 1px 1px 1px);clip: rect(1px, 1px, 1px, 1px);height: 1px;margin: -1px;overflow: hidden;padding: 0;position: absolute;width: 1px;}#sk-container-id-1 div.sk-estimator {font-family: monospace;background-color: #f0f8ff;border: 1px dotted black;border-radius: 0.25em;box-sizing: border-box;margin-bottom: 0.5em;}#sk-container-id-1 div.sk-estimator:hover {background-color: #d4ebff;}#sk-container-id-1 div.sk-parallel-item::after {content: \"\";width: 100%;border-bottom: 1px solid gray;flex-grow: 1;}#sk-container-id-1 div.sk-label:hover label.sk-toggleable__label {background-color: #d4ebff;}#sk-container-id-1 div.sk-serial::before {content: \"\";position: absolute;border-left: 1px solid gray;box-sizing: border-box;top: 0;bottom: 0;left: 50%;z-index: 0;}#sk-container-id-1 div.sk-serial {display: flex;flex-direction: column;align-items: center;background-color: white;padding-right: 0.2em;padding-left: 0.2em;position: relative;}#sk-container-id-1 div.sk-item {position: relative;z-index: 1;}#sk-container-id-1 div.sk-parallel {display: flex;align-items: stretch;justify-content: center;background-color: white;position: relative;}#sk-container-id-1 div.sk-item::before, #sk-container-id-1 div.sk-parallel-item::before {content: \"\";position: absolute;border-left: 1px solid gray;box-sizing: border-box;top: 0;bottom: 0;left: 50%;z-index: -1;}#sk-container-id-1 div.sk-parallel-item {display: flex;flex-direction: column;z-index: 1;position: relative;background-color: white;}#sk-container-id-1 div.sk-parallel-item:first-child::after {align-self: flex-end;width: 50%;}#sk-container-id-1 div.sk-parallel-item:last-child::after {align-self: flex-start;width: 50%;}#sk-container-id-1 div.sk-parallel-item:only-child::after {width: 0;}#sk-container-id-1 div.sk-dashed-wrapped {border: 1px dashed gray;margin: 0 0.4em 0.5em 0.4em;box-sizing: border-box;padding-bottom: 0.4em;background-color: white;}#sk-container-id-1 div.sk-label label {font-family: monospace;font-weight: bold;display: inline-block;line-height: 1.2em;}#sk-container-id-1 div.sk-label-container {text-align: center;}#sk-container-id-1 div.sk-container {/* jupyter's `normalize.less` sets `[hidden] { display: none; }` but bootstrap.min.css set `[hidden] { display: none !important; }` so we also need the `!important` here to be able to override the default hidden behavior on the sphinx rendered scikit-learn.org. See: https://github.com/scikit-learn/scikit-learn/issues/21755 */display: inline-block !important;position: relative;}#sk-container-id-1 div.sk-text-repr-fallback {display: none;}</style><div id=\"sk-container-id-1\" class=\"sk-top-container\"><div class=\"sk-text-repr-fallback\"><pre>LinearRegression()</pre><b>In a Jupyter environment, please rerun this cell to show the HTML representation or trust the notebook. <br />On GitHub, the HTML representation is unable to render, please try loading this page with nbviewer.org.</b></div><div class=\"sk-container\" hidden><div class=\"sk-item\"><div class=\"sk-estimator sk-toggleable\"><input class=\"sk-toggleable__control sk-hidden--visually\" id=\"sk-estimator-id-1\" type=\"checkbox\" checked><label for=\"sk-estimator-id-1\" class=\"sk-toggleable__label sk-toggleable__label-arrow\">LinearRegression</label><div class=\"sk-toggleable__content\"><pre>LinearRegression()</pre></div></div></div></div></div>"
      ],
      "text/plain": [
       "LinearRegression()"
      ]
     },
     "execution_count": 29,
     "metadata": {},
     "output_type": "execute_result"
    }
   ],
   "source": [
    "# Link algorithm to X and y variables\n",
    "model.fit(X_train, y_train)"
   ]
  },
  {
   "cell_type": "code",
   "execution_count": 30,
   "id": "5c18ebfc",
   "metadata": {},
   "outputs": [
    {
     "data": {
      "text/plain": [
       "0.8178354261199066"
      ]
     },
     "execution_count": 30,
     "metadata": {},
     "output_type": "execute_result"
    }
   ],
   "source": [
    "# Find y-intercept\n",
    "model.intercept_"
   ]
  },
  {
   "cell_type": "code",
   "execution_count": 31,
   "id": "1010c2a7",
   "metadata": {},
   "outputs": [
    {
     "data": {
      "text/plain": [
       "array([ 0.09634585,  0.1117113 , -0.03460713,  0.03460713, -0.03950796,\n",
       "        0.03950796])"
      ]
     },
     "execution_count": 31,
     "metadata": {},
     "output_type": "execute_result"
    }
   ],
   "source": [
    "# Find X coefficients\n",
    "model.coef_"
   ]
  },
  {
   "cell_type": "code",
   "execution_count": 38,
   "id": "29f919dc",
   "metadata": {},
   "outputs": [],
   "source": [
    "mean_absolute_error__train_val = mean_absolute_error(y_train, model.predict(X_train))"
   ]
  },
  {
   "cell_type": "code",
   "execution_count": 41,
   "id": "e45d58c2",
   "metadata": {},
   "outputs": [
    {
     "name": "stdout",
     "output_type": "stream",
     "text": [
      "Training set Mean Absolute Error : 0.76\n"
     ]
    }
   ],
   "source": [
    "print(f\"Training set Mean Absolute Error : {mean_absolute_error__train_val:.2f}\")"
   ]
  },
  {
   "cell_type": "code",
   "execution_count": 42,
   "id": "833ca5cd",
   "metadata": {},
   "outputs": [],
   "source": [
    "mean_absolute_error__test_val = mean_absolute_error(y_test, model.predict(X_test))"
   ]
  },
  {
   "cell_type": "code",
   "execution_count": 43,
   "id": "4ff2bdb3",
   "metadata": {},
   "outputs": [
    {
     "name": "stdout",
     "output_type": "stream",
     "text": [
      "Test set Mean Absolute Error : 0.72\n"
     ]
    }
   ],
   "source": [
    "print(f\"Test set Mean Absolute Error : {mean_absolute_error__test_val:.2f}\")"
   ]
  },
  {
   "cell_type": "code",
   "execution_count": 44,
   "id": "444795f8",
   "metadata": {},
   "outputs": [],
   "source": [
    "jamie = [\n",
    "    30, # total_bill\n",
    "    2, # size\n",
    "    True, # time_dinner\n",
    "    False, # time_lunch\n",
    "    False, # sex_femal\n",
    "    True, # sex_male\n",
    "]"
   ]
  },
  {
   "cell_type": "code",
   "execution_count": 45,
   "id": "d7749009",
   "metadata": {},
   "outputs": [
    {
     "name": "stderr",
     "output_type": "stream",
     "text": [
      "/home/thiyophin/anaconda3/envs/env/lib/python3.8/site-packages/sklearn/base.py:465: UserWarning: X does not have valid feature names, but LinearRegression was fitted with feature names\n",
      "  warnings.warn(\n"
     ]
    }
   ],
   "source": [
    "# Make prediction\n",
    "jamie = model.predict([jamie])"
   ]
  },
  {
   "cell_type": "code",
   "execution_count": 46,
   "id": "27879f79",
   "metadata": {},
   "outputs": [
    {
     "data": {
      "text/plain": [
       "array([3.93653445])"
      ]
     },
     "execution_count": 46,
     "metadata": {},
     "output_type": "execute_result"
    }
   ],
   "source": [
    "jamie"
   ]
  },
  {
   "cell_type": "code",
   "execution_count": 47,
   "id": "687f5961",
   "metadata": {},
   "outputs": [],
   "source": [
    "# 3.9 almost 4 dollar, the author got 4.1 almose 4 as well"
   ]
  },
  {
   "cell_type": "code",
   "execution_count": null,
   "id": "70c605a5",
   "metadata": {},
   "outputs": [],
   "source": []
  }
 ],
 "metadata": {
  "kernelspec": {
   "display_name": "env",
   "language": "python",
   "name": "env"
  },
  "language_info": {
   "codemirror_mode": {
    "name": "ipython",
    "version": 3
   },
   "file_extension": ".py",
   "mimetype": "text/x-python",
   "name": "python",
   "nbconvert_exporter": "python",
   "pygments_lexer": "ipython3",
   "version": "3.8.20"
  }
 },
 "nbformat": 4,
 "nbformat_minor": 5
}
