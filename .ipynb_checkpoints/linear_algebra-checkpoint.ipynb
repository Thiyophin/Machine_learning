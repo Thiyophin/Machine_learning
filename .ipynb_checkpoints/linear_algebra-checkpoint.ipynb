{
 "cells": [
  {
   "cell_type": "code",
   "execution_count": 9,
   "id": "e9680355",
   "metadata": {},
   "outputs": [],
   "source": [
    "# vectors in computer science is an ordered list of numbers"
   ]
  },
  {
   "cell_type": "code",
   "execution_count": 10,
   "id": "c10dd852",
   "metadata": {},
   "outputs": [],
   "source": [
    "height_weight_age = [70,170,40] # three dimensional vector # inches, pounds, years"
   ]
  },
  {
   "cell_type": "code",
   "execution_count": 11,
   "id": "1d17b9d2",
   "metadata": {},
   "outputs": [],
   "source": [
    "grades  = [90,80,75,62] # four dimensional vector"
   ]
  },
  {
   "cell_type": "code",
   "execution_count": 12,
   "id": "44d1f551",
   "metadata": {},
   "outputs": [],
   "source": [
    "# adding two vectors\n",
    "def vector_add(v, w):\n",
    "    return [v_i + w_i for v_i, w_i in zip(v,w)]"
   ]
  },
  {
   "cell_type": "code",
   "execution_count": 13,
   "id": "43edf5e4",
   "metadata": {},
   "outputs": [],
   "source": [
    "a = [3,2]\n",
    "b = [-1,4]"
   ]
  },
  {
   "cell_type": "code",
   "execution_count": 14,
   "id": "f5ed793b",
   "metadata": {},
   "outputs": [
    {
     "data": {
      "text/plain": [
       "[2, 6]"
      ]
     },
     "execution_count": 14,
     "metadata": {},
     "output_type": "execute_result"
    }
   ],
   "source": [
    "vector_add(a,b)"
   ]
  },
  {
   "cell_type": "code",
   "execution_count": 15,
   "id": "c94e1bb5",
   "metadata": {},
   "outputs": [],
   "source": [
    "# substracting two vectors\n",
    "def vector_subtract(v, w):\n",
    "    return [v_i - w_i for v_i, w_i in zip(v,w)]"
   ]
  },
  {
   "cell_type": "code",
   "execution_count": 16,
   "id": "8a755ee0",
   "metadata": {},
   "outputs": [
    {
     "data": {
      "text/plain": [
       "[4, -2]"
      ]
     },
     "execution_count": 16,
     "metadata": {},
     "output_type": "execute_result"
    }
   ],
   "source": [
    "vector_subtract(a,b)"
   ]
  },
  {
   "cell_type": "code",
   "execution_count": 19,
   "id": "20e83476",
   "metadata": {},
   "outputs": [],
   "source": [
    "def vector_sum(vectors): # sums all corresponding elements\n",
    "    result = vectors[0]                  # start with the first vector\n",
    "    for vector in vectors[1:]:           # then loop over the others\n",
    "        print(vector)\n",
    "        result = vector_add(result, vector)   # and add them to the result\n",
    "    return result"
   ]
  },
  {
   "cell_type": "code",
   "execution_count": 20,
   "id": "f9d53a55-0314-4ef3-8675-422a14318bf4",
   "metadata": {},
   "outputs": [
    {
     "name": "stdout",
     "output_type": "stream",
     "text": [
      "[4, 5, 6]\n",
      "[6, 7, 8]\n"
     ]
    },
    {
     "data": {
      "text/plain": [
       "[11, 14, 17]"
      ]
     },
     "execution_count": 20,
     "metadata": {},
     "output_type": "execute_result"
    }
   ],
   "source": [
    "vector_sum([[1,2,3],[4,5,6],[6,7,8]])"
   ]
  },
  {
   "cell_type": "code",
   "execution_count": 22,
   "id": "fe0a398b-db01-4b92-ba77-e83c53ea795c",
   "metadata": {},
   "outputs": [],
   "source": [
    "# If you think about it, we are just reduce-ing the list of vectors using vector_add,\n",
    "# which means we can rewrite this more briefly using higher-order functions:\n",
    "from functools import reduce\n",
    "result = reduce(vector_add, [[1,2,3],[4,5,6],[6,7,8]])"
   ]
  },
  {
   "cell_type": "code",
   "execution_count": 23,
   "id": "376db78b-4434-4b75-b2c1-98a3ae2c92a0",
   "metadata": {},
   "outputs": [
    {
     "data": {
      "text/plain": [
       "[11, 14, 17]"
      ]
     },
     "execution_count": 23,
     "metadata": {},
     "output_type": "execute_result"
    }
   ],
   "source": [
    "result"
   ]
  },
  {
   "cell_type": "code",
   "execution_count": 24,
   "id": "574ed2e1-4bcb-4b8b-992a-6dc20f62d314",
   "metadata": {},
   "outputs": [],
   "source": [
    "# scale a vector by multiplying using a number with all the values in the list\n",
    "def scalar_multiply(c, v): # c is a number and v is a vector\n",
    "    return [c * v_i for v_i in v]"
   ]
  },
  {
   "cell_type": "code",
   "execution_count": 25,
   "id": "7e704770-e124-4b67-bd9c-79d1dea257bc",
   "metadata": {},
   "outputs": [
    {
     "data": {
      "text/plain": [
       "[4, 4]"
      ]
     },
     "execution_count": 25,
     "metadata": {},
     "output_type": "execute_result"
    }
   ],
   "source": [
    "scalar_multiply(2,[2,2])"
   ]
  },
  {
   "cell_type": "code",
   "execution_count": null,
   "id": "9ef7f704-44ff-4b77-9ac9-b13774072386",
   "metadata": {},
   "outputs": [],
   "source": []
  }
 ],
 "metadata": {
  "kernelspec": {
   "display_name": "Python 3 (ipykernel)",
   "language": "python",
   "name": "python3"
  },
  "language_info": {
   "codemirror_mode": {
    "name": "ipython",
    "version": 3
   },
   "file_extension": ".py",
   "mimetype": "text/x-python",
   "name": "python",
   "nbconvert_exporter": "python",
   "pygments_lexer": "ipython3",
   "version": "3.12.2"
  }
 },
 "nbformat": 4,
 "nbformat_minor": 5
}
