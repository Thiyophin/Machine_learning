{
 "cells": [
  {
   "cell_type": "code",
   "execution_count": 1,
   "id": "e9680355",
   "metadata": {},
   "outputs": [],
   "source": [
    "# vectors in computer science is an ordered list of numbers"
   ]
  },
  {
   "cell_type": "code",
   "execution_count": 2,
   "id": "c10dd852",
   "metadata": {},
   "outputs": [],
   "source": [
    "height_weight_age = [70,170,40] # three dimensional vector # inches, pounds, years"
   ]
  },
  {
   "cell_type": "code",
   "execution_count": 3,
   "id": "1d17b9d2",
   "metadata": {},
   "outputs": [],
   "source": [
    "grades  = [90,80,75,62] # four dimensional vector"
   ]
  },
  {
   "cell_type": "code",
   "execution_count": 4,
   "id": "44d1f551",
   "metadata": {},
   "outputs": [],
   "source": [
    "# adding two vectors\n",
    "def vector_add(v, w):\n",
    "    return [v_i + w_i for v_i, w_i in zip(v,w)]"
   ]
  },
  {
   "cell_type": "code",
   "execution_count": 5,
   "id": "43edf5e4",
   "metadata": {},
   "outputs": [],
   "source": [
    "a = [3,2]\n",
    "b = [-1,4]"
   ]
  },
  {
   "cell_type": "code",
   "execution_count": 6,
   "id": "f5ed793b",
   "metadata": {},
   "outputs": [
    {
     "data": {
      "text/plain": [
       "[2, 6]"
      ]
     },
     "execution_count": 6,
     "metadata": {},
     "output_type": "execute_result"
    }
   ],
   "source": [
    "vector_add(a,b)"
   ]
  },
  {
   "cell_type": "code",
   "execution_count": 7,
   "id": "c94e1bb5",
   "metadata": {},
   "outputs": [],
   "source": [
    "# substracting two vectors\n",
    "def vector_subtract(v, w):\n",
    "    return [v_i - w_i for v_i, w_i in zip(v,w)]"
   ]
  },
  {
   "cell_type": "code",
   "execution_count": 8,
   "id": "8a755ee0",
   "metadata": {},
   "outputs": [
    {
     "data": {
      "text/plain": [
       "[4, -2]"
      ]
     },
     "execution_count": 8,
     "metadata": {},
     "output_type": "execute_result"
    }
   ],
   "source": [
    "vector_subtract(a,b)"
   ]
  },
  {
   "cell_type": "code",
   "execution_count": null,
   "id": "20e83476",
   "metadata": {},
   "outputs": [],
   "source": []
  }
 ],
 "metadata": {
  "kernelspec": {
   "display_name": "Python 3 (ipykernel)",
   "language": "python",
   "name": "python3"
  },
  "language_info": {
   "codemirror_mode": {
    "name": "ipython",
    "version": 3
   },
   "file_extension": ".py",
   "mimetype": "text/x-python",
   "name": "python",
   "nbconvert_exporter": "python",
   "pygments_lexer": "ipython3",
   "version": "3.10.12"
  }
 },
 "nbformat": 4,
 "nbformat_minor": 5
}
