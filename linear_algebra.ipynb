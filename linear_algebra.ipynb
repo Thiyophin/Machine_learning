{
 "cells": [
  {
   "cell_type": "code",
   "execution_count": 2,
   "id": "e9680355",
   "metadata": {},
   "outputs": [],
   "source": [
    "# vectors in computer science is an ordered list of numbers"
   ]
  },
  {
   "cell_type": "code",
   "execution_count": 3,
   "id": "c10dd852",
   "metadata": {},
   "outputs": [],
   "source": [
    "height_weight_age = [70,170,40] # three dimensional vector # inches, pounds, years"
   ]
  },
  {
   "cell_type": "code",
   "execution_count": 4,
   "id": "1d17b9d2",
   "metadata": {},
   "outputs": [],
   "source": [
    "grades  = [90,80,75,62] # four dimensional vector"
   ]
  },
  {
   "cell_type": "code",
   "execution_count": 5,
   "id": "44d1f551",
   "metadata": {},
   "outputs": [],
   "source": [
    "# adding two vectors\n",
    "def vector_add(v, w):\n",
    "    return [v_i + w_i for v_i, w_i in zip(v,w)]"
   ]
  },
  {
   "cell_type": "code",
   "execution_count": 6,
   "id": "43edf5e4",
   "metadata": {},
   "outputs": [],
   "source": [
    "a = [3,2]\n",
    "b = [-1,4]"
   ]
  },
  {
   "cell_type": "code",
   "execution_count": 7,
   "id": "f5ed793b",
   "metadata": {},
   "outputs": [
    {
     "data": {
      "text/plain": [
       "[2, 6]"
      ]
     },
     "execution_count": 7,
     "metadata": {},
     "output_type": "execute_result"
    }
   ],
   "source": [
    "vector_add(a,b)"
   ]
  },
  {
   "cell_type": "code",
   "execution_count": 8,
   "id": "c94e1bb5",
   "metadata": {},
   "outputs": [],
   "source": [
    "# substracting two vectors\n",
    "def vector_subtract(v, w):\n",
    "    return [v_i - w_i for v_i, w_i in zip(v,w)]"
   ]
  },
  {
   "cell_type": "code",
   "execution_count": 9,
   "id": "8a755ee0",
   "metadata": {},
   "outputs": [
    {
     "data": {
      "text/plain": [
       "[4, -2]"
      ]
     },
     "execution_count": 9,
     "metadata": {},
     "output_type": "execute_result"
    }
   ],
   "source": [
    "vector_subtract(a,b)"
   ]
  },
  {
   "cell_type": "code",
   "execution_count": 10,
   "id": "20e83476",
   "metadata": {},
   "outputs": [],
   "source": [
    "def vector_sum(vectors): # sums all corresponding elements\n",
    "    result = vectors[0]                  # start with the first vector\n",
    "    for vector in vectors[1:]:           # then loop over the others\n",
    "        print(vector)\n",
    "        result = vector_add(result, vector)   # and add them to the result\n",
    "    return result"
   ]
  },
  {
   "cell_type": "code",
   "execution_count": 11,
   "id": "f9d53a55-0314-4ef3-8675-422a14318bf4",
   "metadata": {},
   "outputs": [
    {
     "name": "stdout",
     "output_type": "stream",
     "text": [
      "[4, 5, 6]\n",
      "[6, 7, 8]\n"
     ]
    },
    {
     "data": {
      "text/plain": [
       "[11, 14, 17]"
      ]
     },
     "execution_count": 11,
     "metadata": {},
     "output_type": "execute_result"
    }
   ],
   "source": [
    "vector_sum([[1,2,3],[4,5,6],[6,7,8]])"
   ]
  },
  {
   "cell_type": "code",
   "execution_count": 12,
   "id": "fe0a398b-db01-4b92-ba77-e83c53ea795c",
   "metadata": {},
   "outputs": [],
   "source": [
    "# If you think about it, we are just reduce-ing the list of vectors using vector_add,\n",
    "# which means we can rewrite this more briefly using higher-order functions:\n",
    "from functools import reduce\n",
    "result = reduce(vector_add, [[1,2,3],[4,5,6],[6,7,8]])"
   ]
  },
  {
   "cell_type": "code",
   "execution_count": 13,
   "id": "376db78b-4434-4b75-b2c1-98a3ae2c92a0",
   "metadata": {},
   "outputs": [
    {
     "data": {
      "text/plain": [
       "[11, 14, 17]"
      ]
     },
     "execution_count": 13,
     "metadata": {},
     "output_type": "execute_result"
    }
   ],
   "source": [
    "result"
   ]
  },
  {
   "cell_type": "code",
   "execution_count": 14,
   "id": "574ed2e1-4bcb-4b8b-992a-6dc20f62d314",
   "metadata": {},
   "outputs": [],
   "source": [
    "# scale a vector by multiplying using a number with all the values in the list\n",
    "def scalar_multiply(c, v): # c is a number and v is a vector\n",
    "    return [c * v_i for v_i in v]"
   ]
  },
  {
   "cell_type": "code",
   "execution_count": 15,
   "id": "7e704770-e124-4b67-bd9c-79d1dea257bc",
   "metadata": {},
   "outputs": [
    {
     "data": {
      "text/plain": [
       "[4, 4]"
      ]
     },
     "execution_count": 15,
     "metadata": {},
     "output_type": "execute_result"
    }
   ],
   "source": [
    "scalar_multiply(2,[2,2])"
   ]
  },
  {
   "cell_type": "markdown",
   "id": "3beff9dc-a059-4947-9b27-002ea788a3fc",
   "metadata": {},
   "source": [
    "\"\"\"compute the vector whose ith element is the mean of the\n",
    "ith elements of the input vectors\"\"\""
   ]
  },
  {
   "cell_type": "code",
   "execution_count": 20,
   "id": "f4c5887b-44e6-46df-a595-afb0472bc9d5",
   "metadata": {},
   "outputs": [],
   "source": [
    "def vector_mean(vectors):\n",
    "    n = len(vectors)\n",
    "    return scalar_multiply(1/n, vector_sum(vectors))"
   ]
  },
  {
   "cell_type": "code",
   "execution_count": 21,
   "id": "f52e2d19-9e44-459c-9f88-d6721e761da9",
   "metadata": {},
   "outputs": [
    {
     "data": {
      "text/plain": [
       "[3.6666666666666665, 4.666666666666666, 5.666666666666666]"
      ]
     },
     "execution_count": 21,
     "metadata": {},
     "output_type": "execute_result"
    }
   ],
   "source": [
    "a = [[1,2,3],[4,5,6],[6,7,8]]\n",
    "vector_mean(a)"
   ]
  },
  {
   "cell_type": "code",
   "execution_count": 22,
   "id": "a63753b4-ac77-4c75-b238-16164ba53058",
   "metadata": {},
   "outputs": [
    {
     "data": {
      "text/plain": [
       "5.666666666666667"
      ]
     },
     "execution_count": 22,
     "metadata": {},
     "output_type": "execute_result"
    }
   ],
   "source": [
    "17/3"
   ]
  },
  {
   "cell_type": "markdown",
   "id": "d556041e-857f-4822-b4a1-ac414773dbce",
   "metadata": {},
   "source": [
    "\"\"\"A less obvious tool is the dot product. The dot product of two vectors is the sum of\n",
    "their componentwise products:\"\"\""
   ]
  },
  {
   "cell_type": "markdown",
   "id": "948e3c43-dc17-4ff1-8e59-4d7075707bcb",
   "metadata": {},
   "source": [
    "\"\"\"v_1 * w_1 + ... + v_n * w_n\"\"\""
   ]
  },
  {
   "cell_type": "code",
   "execution_count": 23,
   "id": "7925eaf4-15af-40ba-8488-027f88711bfe",
   "metadata": {},
   "outputs": [],
   "source": [
    "def dot(v,w):\n",
    "    return sum([v_i * w_i for v_i, w_i in zip(v,w)])"
   ]
  },
  {
   "cell_type": "code",
   "execution_count": 24,
   "id": "9d57f45f-b4ab-41f0-b15d-51c3b049b5dc",
   "metadata": {},
   "outputs": [
    {
     "data": {
      "text/plain": [
       "32"
      ]
     },
     "execution_count": 24,
     "metadata": {},
     "output_type": "execute_result"
    }
   ],
   "source": [
    "dot([1,2,3],[4,5,6])"
   ]
  },
  {
   "cell_type": "code",
   "execution_count": 25,
   "id": "b7f4903c-e4e8-44c6-a505-759316ce9446",
   "metadata": {},
   "outputs": [
    {
     "data": {
      "text/plain": [
       "7"
      ]
     },
     "execution_count": 25,
     "metadata": {},
     "output_type": "execute_result"
    }
   ],
   "source": [
    "dot([2,1],[3,1])"
   ]
  },
  {
   "cell_type": "code",
   "execution_count": 28,
   "id": "9bb35880-f408-4514-929a-e58b99aee25c",
   "metadata": {},
   "outputs": [],
   "source": [
    "def sum_of_squares(v):\n",
    "# v_1 * v_1 + ... + v_n * v_n\"\"\"\n",
    "    return dot(v, v)"
   ]
  },
  {
   "cell_type": "code",
   "execution_count": 29,
   "id": "e2aca554-d2f1-4555-af9e-bd15d1e61847",
   "metadata": {},
   "outputs": [],
   "source": [
    "import math\n",
    "def magnitude(v):\n",
    "    return math.sqrt(sum_of_squares(v))\n",
    "# math.sqrt is square root function"
   ]
  },
  {
   "cell_type": "code",
   "execution_count": 30,
   "id": "84a1a3d8-203f-4a1d-84cc-46ed1ce5dd7a",
   "metadata": {},
   "outputs": [],
   "source": [
    "def squared_distance(v, w):\n",
    "#(v_1 - w_1) ** 2 + ... + (v_n - w_n) ** 2\"\"\"\n",
    "    return sum_of_squares(vector_subtract(v, w))\n",
    "\n",
    "def distance(v, w):\n",
    "    return math.sqrt(squared_distance(v, w))\n",
    "    \n",
    "#Which is possibly clearer if we write it as (the equivalent):\n",
    "def distance(v, w):\n",
    "    return magnitude(vector_subtract(v, w))"
   ]
  },
  {
   "cell_type": "markdown",
   "id": "b8ed9539-e88d-472e-9cc9-2b28925b2eb3",
   "metadata": {},
   "source": [
    "Using lists as vectors is great for exposition but terrible for perfor‐\n",
    "mance.\n",
    "In production code, you would want to use the NumPy library,\n",
    "which includes a high-performance array class with all sorts of\n",
    "arithmetic operations included."
   ]
  },
  {
   "cell_type": "code",
   "execution_count": null,
   "id": "04354c68-c375-43d4-999b-f4715ea1b437",
   "metadata": {},
   "outputs": [],
   "source": []
  }
 ],
 "metadata": {
  "kernelspec": {
   "display_name": "Python 3 (ipykernel)",
   "language": "python",
   "name": "python3"
  },
  "language_info": {
   "codemirror_mode": {
    "name": "ipython",
    "version": 3
   },
   "file_extension": ".py",
   "mimetype": "text/x-python",
   "name": "python",
   "nbconvert_exporter": "python",
   "pygments_lexer": "ipython3",
   "version": "3.12.2"
  }
 },
 "nbformat": 4,
 "nbformat_minor": 5
}
