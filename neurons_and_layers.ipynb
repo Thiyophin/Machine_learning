{
  "nbformat": 4,
  "nbformat_minor": 0,
  "metadata": {
    "colab": {
      "provenance": [],
      "authorship_tag": "ABX9TyMP9R/ao4FyQmKjx54w7oIc",
      "include_colab_link": true
    },
    "kernelspec": {
      "name": "python3",
      "display_name": "Python 3"
    },
    "language_info": {
      "name": "python"
    }
  },
  "cells": [
    {
      "cell_type": "markdown",
      "metadata": {
        "id": "view-in-github",
        "colab_type": "text"
      },
      "source": [
        "<a href=\"https://colab.research.google.com/github/Thiyophin/Machine_learning/blob/master/neurons_and_layers.ipynb\" target=\"_parent\"><img src=\"https://colab.research.google.com/assets/colab-badge.svg\" alt=\"Open In Colab\"/></a>"
      ]
    },
    {
      "cell_type": "markdown",
      "source": [
        "# Neurons and Layers\n",
        "In this lab we will explore the inner workings of neurons/units and layers. In particular, the lab will draw parallels to the models you have mastered in Course 1, the regression/linear model and the logistic model. The lab will introduce Tensorflow and demonstrate how these models are implemented in that framework.\n",
        "<figure>\n",
        "  <figure>\n",
        "   <img src=\"https://drive.google.com/uc?export=view&id=19euNHN4MH69qCa1c-yEvf7vJ-76Wuvfg\" style=\"width:540px;height:200px;\">\n",
        "</figure>\n",
        "</figure>\n"
      ],
      "metadata": {
        "id": "vjr4kn6dYLQr"
      }
    },
    {
      "cell_type": "markdown",
      "source": [],
      "metadata": {
        "id": "8k7u2JtzYHvS"
      }
    },
    {
      "cell_type": "markdown",
      "source": [
        "## Packages\n",
        "**Tensorflow and Keras**  \n",
        "Tensorflow is a machine learning package developed by Google. In 2019, Google integrated Keras into Tensorflow and released Tensorflow 2.0. Keras is a framework developed independently by François Chollet that creates a simple, layer-centric interface to Tensorflow. This course will be using the Keras interface."
      ],
      "metadata": {
        "id": "SaBJD7XVZZDj"
      }
    },
    {
      "cell_type": "markdown",
      "source": [],
      "metadata": {
        "id": "I5EpUMgMX2Lk"
      }
    },
    {
      "cell_type": "code",
      "source": [],
      "metadata": {
        "id": "cX_afcATX0lR"
      },
      "execution_count": null,
      "outputs": []
    },
    {
      "cell_type": "markdown",
      "source": [],
      "metadata": {
        "id": "YaYBG_awX1XX"
      }
    },
    {
      "cell_type": "markdown",
      "source": [],
      "metadata": {
        "id": "v7Cf0Ge8Xv3F"
      }
    },
    {
      "cell_type": "markdown",
      "source": [],
      "metadata": {
        "id": "qhdbttTUXu2q"
      }
    },
    {
      "cell_type": "markdown",
      "source": [],
      "metadata": {
        "id": "_yP4E2caXplD"
      }
    }
  ]
}